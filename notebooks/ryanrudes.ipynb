{
 "cells": [
  {
   "cell_type": "code",
   "execution_count": 1,
   "metadata": {},
   "outputs": [],
   "source": [
    "# Ryanrudes' implementation adjusted for pong: https://github.com/ryanrudes/minimal_goexplore\n",
    "from collections import defaultdict\n",
    "from time import sleep\n",
    "import numpy as np\n",
    "import cv2\n",
    "import sys\n",
    "sys.path.append('/home/elgutto/Documents/masters/atari/atari/lib/python3.8/site-packages')\n",
    "import gym\n",
    "\n",
    "def cellfn(frame):\n",
    "    cell = cv2.cvtColor(frame, cv2.COLOR_RGB2GRAY)\n",
    "    cell = cv2.resize(cell, (11, 8), interpolation = cv2.INTER_AREA)\n",
    "    cell = cell // 32\n",
    "    return cell\n",
    "\n",
    "def hashfn(cell):\n",
    "    return hash(cell.tobytes())\n",
    "\n",
    "class Weights:\n",
    "    times_chosen = 0.1\n",
    "    times_chosen_since_new = 0\n",
    "    times_seen = 0.3\n",
    "\n",
    "class Powers:\n",
    "    times_chosen = 0.5\n",
    "    times_chosen_since_new = 0.5\n",
    "    times_seen = 0.5\n",
    "\n",
    "class Cell(object):\n",
    "    def __init__(self):\n",
    "        self.times_chosen = 0\n",
    "        self.times_chosen_since_new = 0\n",
    "        self.times_seen = 0\n",
    "\n",
    "    def __setattr__(self, key, value):\n",
    "        object.__setattr__(self, key, value)\n",
    "        if key != 'score' and hasattr(self, 'times_seen'):\n",
    "            self.score = self.cellscore()\n",
    "\n",
    "    def cntscore(self, a):\n",
    "        w = getattr(Weights, a)\n",
    "        p = getattr(Powers, a)\n",
    "        v = getattr(self, a)\n",
    "        return w / (v + e1) ** p + e2\n",
    "\n",
    "    def cellscore(self):\n",
    "        return self.cntscore('times_chosen')           +\\\n",
    "               self.cntscore('times_chosen_since_new') +\\\n",
    "               self.cntscore('times_seen')             +\\\n",
    "               1\n",
    "\n",
    "    def visit(self):\n",
    "        self.times_seen += 1\n",
    "        return self.times_seen == 1\n",
    "\n",
    "    def choose(self):\n",
    "        self.times_chosen += 1\n",
    "        self.times_chosen_since_new += 1\n",
    "        return self.ram, self.reward, self.trajectory\n",
    "\n",
    "archive = defaultdict(lambda: Cell())\n",
    "highscore = 0\n",
    "frames = 0\n",
    "\n",
    "e1 = 0.001\n",
    "e2 = 0.00001\n",
    "\n",
    "env = gym.make(\"PongNoFrameskip-v4\")\n",
    "frame = env.reset()\n",
    "score = 0\n",
    "action = 0\n",
    "trajectory = []\n",
    "iterations = 0\n",
    "\n",
    "\n"
   ]
  },
  {
   "cell_type": "code",
   "execution_count": 33,
   "metadata": {},
   "outputs": [],
   "source": [
    "s = env.reset()\n",
    "import matplotlib.pyplot as plt"
   ]
  },
  {
   "cell_type": "code",
   "execution_count": 35,
   "metadata": {},
   "outputs": [
    {
     "data": {
      "text/plain": [
       "<matplotlib.image.AxesImage at 0x7fb1302d04c0>"
      ]
     },
     "execution_count": 35,
     "metadata": {},
     "output_type": "execute_result"
    },
    {
     "data": {
      "image/png": "[encoded data removed]",
      "text/plain": [
       "<Figure size 432x288 with 1 Axes>"
      ]
     },
     "metadata": {
      "needs_background": "light"
     },
     "output_type": "display_data"
    }
   ],
   "source": [
    "plt.imshow(cellfn(s))"
   ]
  },
  {
   "cell_type": "code",
   "execution_count": 34,
   "metadata": {},
   "outputs": [
    {
     "data": {
      "text/plain": [
       "<matplotlib.image.AxesImage at 0x7fb130366700>"
      ]
     },
     "execution_count": 34,
     "metadata": {},
     "output_type": "execute_result"
    },
    {
     "data": {
      "image/png": "[encoded data removed]",
      "text/plain": [
       "<Figure size 432x288 with 1 Axes>"
      ]
     },
     "metadata": {
      "needs_background": "light"
     },
     "output_type": "display_data"
    }
   ],
   "source": [
    "plt.imshow(s)"
   ]
  },
  {
   "cell_type": "code",
   "execution_count": 2,
   "metadata": {},
   "outputs": [
    {
     "name": "stderr",
     "output_type": "stream",
     "text": [
      "  0%|          | 0/20000 [00:00<?, ?it/s]/home/elgutto/Documents/masters/atari/atari/lib/python3.8/site-packages/gym/envs/atari/environment.py:353: UserWarning: \u001b[33mWARN: `clone_full_state()` is deprecated and will be removed in a future release of `ale-py`. Please use `clone_state(include_rng=True)` which is equivalent to `clone_full_state`. \u001b[0m\n",
      "  logger.warn(\n",
      "/home/elgutto/Documents/masters/atari/atari/lib/python3.8/site-packages/gym/envs/atari/environment.py:361: UserWarning: \u001b[33mWARN: restore_full_state() is deprecated and will be removed in a future release of `ale-py`. Please use `restore_state(state)` which will restore the state regardless of being a full or partial state. \u001b[0m\n",
      "  logger.warn(\n",
      "  3%|▎         | 505/20000 [00:16<11:47, 27.56it/s]"
     ]
    },
    {
     "name": "stdout",
     "output_type": "stream",
     "text": [
      "Iterations: 500, Cells: 37, Frames: 50000, Max Reward: 0\n"
     ]
    },
    {
     "name": "stderr",
     "output_type": "stream",
     "text": [
      "  5%|▌         | 1004/20000 [00:32<10:50, 29.21it/s]"
     ]
    },
    {
     "name": "stdout",
     "output_type": "stream",
     "text": [
      "Iterations: 1000, Cells: 37, Frames: 100000, Max Reward: 0\n"
     ]
    },
    {
     "name": "stderr",
     "output_type": "stream",
     "text": [
      "  8%|▊         | 1503/20000 [00:49<09:49, 31.38it/s]"
     ]
    },
    {
     "name": "stdout",
     "output_type": "stream",
     "text": [
      "Iterations: 1500, Cells: 73, Frames: 150000, Max Reward: 1\n"
     ]
    },
    {
     "name": "stderr",
     "output_type": "stream",
     "text": [
      " 10%|█         | 2003/20000 [01:05<09:31, 31.47it/s]"
     ]
    },
    {
     "name": "stdout",
     "output_type": "stream",
     "text": [
      "Iterations: 2000, Cells: 73, Frames: 200000, Max Reward: 1\n"
     ]
    },
    {
     "name": "stderr",
     "output_type": "stream",
     "text": [
      " 13%|█▎        | 2503/20000 [01:21<09:14, 31.53it/s]"
     ]
    },
    {
     "name": "stdout",
     "output_type": "stream",
     "text": [
      "Iterations: 2500, Cells: 73, Frames: 250000, Max Reward: 1\n"
     ]
    },
    {
     "name": "stderr",
     "output_type": "stream",
     "text": [
      " 15%|█▌        | 3006/20000 [01:38<09:03, 31.27it/s]"
     ]
    },
    {
     "name": "stdout",
     "output_type": "stream",
     "text": [
      "Iterations: 3000, Cells: 73, Frames: 300000, Max Reward: 1\n"
     ]
    },
    {
     "name": "stderr",
     "output_type": "stream",
     "text": [
      " 18%|█▊        | 3503/20000 [01:54<08:54, 30.85it/s]"
     ]
    },
    {
     "name": "stdout",
     "output_type": "stream",
     "text": [
      "Iterations: 3500, Cells: 73, Frames: 350000, Max Reward: 2\n"
     ]
    },
    {
     "name": "stderr",
     "output_type": "stream",
     "text": [
      " 20%|██        | 4004/20000 [02:10<08:25, 31.62it/s]"
     ]
    },
    {
     "name": "stdout",
     "output_type": "stream",
     "text": [
      "Iterations: 4000, Cells: 73, Frames: 400000, Max Reward: 4\n"
     ]
    },
    {
     "name": "stderr",
     "output_type": "stream",
     "text": [
      " 23%|██▎       | 4505/20000 [02:27<08:11, 31.51it/s]"
     ]
    },
    {
     "name": "stdout",
     "output_type": "stream",
     "text": [
      "Iterations: 4500, Cells: 73, Frames: 450000, Max Reward: 4\n"
     ]
    },
    {
     "name": "stderr",
     "output_type": "stream",
     "text": [
      " 25%|██▌       | 5005/20000 [02:43<07:51, 31.78it/s]"
     ]
    },
    {
     "name": "stdout",
     "output_type": "stream",
     "text": [
      "Iterations: 5000, Cells: 73, Frames: 500000, Max Reward: 5\n"
     ]
    },
    {
     "name": "stderr",
     "output_type": "stream",
     "text": [
      " 28%|██▊       | 5505/20000 [02:59<07:37, 31.71it/s]"
     ]
    },
    {
     "name": "stdout",
     "output_type": "stream",
     "text": [
      "Iterations: 5500, Cells: 73, Frames: 550000, Max Reward: 5\n"
     ]
    },
    {
     "name": "stderr",
     "output_type": "stream",
     "text": [
      " 30%|███       | 6005/20000 [03:15<07:22, 31.62it/s]"
     ]
    },
    {
     "name": "stdout",
     "output_type": "stream",
     "text": [
      "Iterations: 6000, Cells: 73, Frames: 600000, Max Reward: 6\n"
     ]
    },
    {
     "name": "stderr",
     "output_type": "stream",
     "text": [
      " 33%|███▎      | 6505/20000 [03:31<07:04, 31.79it/s]"
     ]
    },
    {
     "name": "stdout",
     "output_type": "stream",
     "text": [
      "Iterations: 6500, Cells: 73, Frames: 650000, Max Reward: 7\n"
     ]
    },
    {
     "name": "stderr",
     "output_type": "stream",
     "text": [
      " 35%|███▌      | 7005/20000 [03:46<06:50, 31.68it/s]"
     ]
    },
    {
     "name": "stdout",
     "output_type": "stream",
     "text": [
      "Iterations: 7000, Cells: 73, Frames: 700000, Max Reward: 8\n"
     ]
    },
    {
     "name": "stderr",
     "output_type": "stream",
     "text": [
      " 38%|███▊      | 7505/20000 [04:02<07:14, 28.76it/s]"
     ]
    },
    {
     "name": "stdout",
     "output_type": "stream",
     "text": [
      "Iterations: 7500, Cells: 73, Frames: 750000, Max Reward: 8\n"
     ]
    },
    {
     "name": "stderr",
     "output_type": "stream",
     "text": [
      " 40%|████      | 8003/20000 [04:18<06:18, 31.69it/s]"
     ]
    },
    {
     "name": "stdout",
     "output_type": "stream",
     "text": [
      "Iterations: 8000, Cells: 73, Frames: 800000, Max Reward: 10\n"
     ]
    },
    {
     "name": "stderr",
     "output_type": "stream",
     "text": [
      " 43%|████▎     | 8503/20000 [04:34<06:00, 31.89it/s]"
     ]
    },
    {
     "name": "stdout",
     "output_type": "stream",
     "text": [
      "Iterations: 8500, Cells: 73, Frames: 850000, Max Reward: 10\n"
     ]
    },
    {
     "name": "stderr",
     "output_type": "stream",
     "text": [
      " 45%|████▌     | 9003/20000 [04:50<05:46, 31.70it/s]"
     ]
    },
    {
     "name": "stdout",
     "output_type": "stream",
     "text": [
      "Iterations: 9000, Cells: 73, Frames: 900000, Max Reward: 10\n"
     ]
    },
    {
     "name": "stderr",
     "output_type": "stream",
     "text": [
      " 48%|████▊     | 9503/20000 [05:06<05:32, 31.61it/s]"
     ]
    },
    {
     "name": "stdout",
     "output_type": "stream",
     "text": [
      "Iterations: 9500, Cells: 73, Frames: 950000, Max Reward: 10\n"
     ]
    },
    {
     "name": "stderr",
     "output_type": "stream",
     "text": [
      " 50%|█████     | 10003/20000 [05:22<05:15, 31.73it/s]"
     ]
    },
    {
     "name": "stdout",
     "output_type": "stream",
     "text": [
      "Iterations: 10000, Cells: 73, Frames: 1000000, Max Reward: 10\n"
     ]
    },
    {
     "name": "stderr",
     "output_type": "stream",
     "text": [
      " 53%|█████▎    | 10503/20000 [05:38<05:00, 31.58it/s]"
     ]
    },
    {
     "name": "stdout",
     "output_type": "stream",
     "text": [
      "Iterations: 10500, Cells: 73, Frames: 1050000, Max Reward: 11\n"
     ]
    },
    {
     "name": "stderr",
     "output_type": "stream",
     "text": [
      " 55%|█████▌    | 11006/20000 [05:54<04:46, 31.37it/s]"
     ]
    },
    {
     "name": "stdout",
     "output_type": "stream",
     "text": [
      "Iterations: 11000, Cells: 73, Frames: 1100000, Max Reward: 12\n"
     ]
    },
    {
     "name": "stderr",
     "output_type": "stream",
     "text": [
      " 58%|█████▊    | 11503/20000 [06:10<04:27, 31.73it/s]"
     ]
    },
    {
     "name": "stdout",
     "output_type": "stream",
     "text": [
      "Iterations: 11500, Cells: 73, Frames: 1150000, Max Reward: 12\n"
     ]
    },
    {
     "name": "stderr",
     "output_type": "stream",
     "text": [
      " 60%|██████    | 12003/20000 [06:26<04:12, 31.70it/s]"
     ]
    },
    {
     "name": "stdout",
     "output_type": "stream",
     "text": [
      "Iterations: 12000, Cells: 73, Frames: 1200000, Max Reward: 12\n"
     ]
    },
    {
     "name": "stderr",
     "output_type": "stream",
     "text": [
      " 63%|██████▎   | 12503/20000 [06:42<03:53, 32.10it/s]"
     ]
    },
    {
     "name": "stdout",
     "output_type": "stream",
     "text": [
      "Iterations: 12500, Cells: 73, Frames: 1250000, Max Reward: 12\n"
     ]
    },
    {
     "name": "stderr",
     "output_type": "stream",
     "text": [
      " 65%|██████▌   | 13004/20000 [06:58<03:40, 31.71it/s]"
     ]
    },
    {
     "name": "stdout",
     "output_type": "stream",
     "text": [
      "Iterations: 13000, Cells: 73, Frames: 1300000, Max Reward: 14\n"
     ]
    },
    {
     "name": "stderr",
     "output_type": "stream",
     "text": [
      " 68%|██████▊   | 13504/20000 [07:13<03:22, 32.06it/s]"
     ]
    },
    {
     "name": "stdout",
     "output_type": "stream",
     "text": [
      "Iterations: 13500, Cells: 73, Frames: 1350000, Max Reward: 15\n"
     ]
    },
    {
     "name": "stderr",
     "output_type": "stream",
     "text": [
      " 70%|███████   | 14003/20000 [07:29<03:05, 32.34it/s]"
     ]
    },
    {
     "name": "stdout",
     "output_type": "stream",
     "text": [
      "Iterations: 14000, Cells: 73, Frames: 1400000, Max Reward: 15\n"
     ]
    },
    {
     "name": "stderr",
     "output_type": "stream",
     "text": [
      " 73%|███████▎  | 14503/20000 [07:45<02:50, 32.19it/s]"
     ]
    },
    {
     "name": "stdout",
     "output_type": "stream",
     "text": [
      "Iterations: 14500, Cells: 73, Frames: 1450000, Max Reward: 16\n"
     ]
    },
    {
     "name": "stderr",
     "output_type": "stream",
     "text": [
      " 75%|███████▌  | 15003/20000 [08:00<02:37, 31.66it/s]"
     ]
    },
    {
     "name": "stdout",
     "output_type": "stream",
     "text": [
      "Iterations: 15000, Cells: 73, Frames: 1500000, Max Reward: 16\n"
     ]
    },
    {
     "name": "stderr",
     "output_type": "stream",
     "text": [
      " 78%|███████▊  | 15503/20000 [08:16<02:18, 32.36it/s]"
     ]
    },
    {
     "name": "stdout",
     "output_type": "stream",
     "text": [
      "Iterations: 15500, Cells: 73, Frames: 1550000, Max Reward: 16\n"
     ]
    },
    {
     "name": "stderr",
     "output_type": "stream",
     "text": [
      " 80%|████████  | 16003/20000 [08:31<02:04, 32.19it/s]"
     ]
    },
    {
     "name": "stdout",
     "output_type": "stream",
     "text": [
      "Iterations: 16000, Cells: 73, Frames: 1600000, Max Reward: 18\n"
     ]
    },
    {
     "name": "stderr",
     "output_type": "stream",
     "text": [
      " 83%|████████▎ | 16503/20000 [08:47<01:48, 32.22it/s]"
     ]
    },
    {
     "name": "stdout",
     "output_type": "stream",
     "text": [
      "Iterations: 16500, Cells: 73, Frames: 1650000, Max Reward: 18\n"
     ]
    },
    {
     "name": "stderr",
     "output_type": "stream",
     "text": [
      " 85%|████████▌ | 17006/20000 [09:03<01:32, 32.25it/s]"
     ]
    },
    {
     "name": "stdout",
     "output_type": "stream",
     "text": [
      "Iterations: 17000, Cells: 73, Frames: 1700000, Max Reward: 18\n"
     ]
    },
    {
     "name": "stderr",
     "output_type": "stream",
     "text": [
      " 88%|████████▊ | 17503/20000 [09:19<01:17, 32.09it/s]"
     ]
    },
    {
     "name": "stdout",
     "output_type": "stream",
     "text": [
      "Iterations: 17500, Cells: 73, Frames: 1750000, Max Reward: 18\n"
     ]
    },
    {
     "name": "stderr",
     "output_type": "stream",
     "text": [
      " 90%|█████████ | 18004/20000 [09:36<01:08, 29.29it/s]"
     ]
    },
    {
     "name": "stdout",
     "output_type": "stream",
     "text": [
      "Iterations: 18000, Cells: 73, Frames: 1800000, Max Reward: 18\n"
     ]
    },
    {
     "name": "stderr",
     "output_type": "stream",
     "text": [
      " 93%|█████████▎| 18504/20000 [09:51<00:46, 32.03it/s]"
     ]
    },
    {
     "name": "stdout",
     "output_type": "stream",
     "text": [
      "Iterations: 18500, Cells: 73, Frames: 1850000, Max Reward: 18\n"
     ]
    },
    {
     "name": "stderr",
     "output_type": "stream",
     "text": [
      " 95%|█████████▌| 19004/20000 [10:07<00:30, 32.29it/s]"
     ]
    },
    {
     "name": "stdout",
     "output_type": "stream",
     "text": [
      "Iterations: 19000, Cells: 73, Frames: 1900000, Max Reward: 18\n"
     ]
    },
    {
     "name": "stderr",
     "output_type": "stream",
     "text": [
      " 98%|█████████▊| 19504/20000 [10:23<00:15, 32.22it/s]"
     ]
    },
    {
     "name": "stdout",
     "output_type": "stream",
     "text": [
      "Iterations: 19500, Cells: 73, Frames: 1950000, Max Reward: 18\n"
     ]
    },
    {
     "name": "stderr",
     "output_type": "stream",
     "text": [
      "100%|██████████| 20000/20000 [10:38<00:00, 31.32it/s]"
     ]
    },
    {
     "name": "stdout",
     "output_type": "stream",
     "text": [
      "Iterations: 20000, Cells: 73, Frames: 2000000, Max Reward: 18\n"
     ]
    },
    {
     "name": "stderr",
     "output_type": "stream",
     "text": [
      "\n"
     ]
    }
   ],
   "source": [
    "from tqdm import tqdm\n",
    "for _ in tqdm(range(20000)):\n",
    "    found_new_cell = False\n",
    "\n",
    "    for i in range(100):\n",
    "        if np.random.random() > 0.95:\n",
    "            action = env.action_space.sample()\n",
    "\n",
    "        frame, reward, terminal, info = env.step(action)\n",
    "        #print(info)\n",
    "        #if iterations % 100 == 0:\n",
    "        #    env.render()\n",
    "        score += reward\n",
    "        #terminal |= info['lives'] < 6\n",
    "\n",
    "        trajectory.append(action)\n",
    "        frames += 1\n",
    "\n",
    "        if score > highscore:\n",
    "            highscore = score\n",
    "\n",
    "        if terminal:\n",
    "            break\n",
    "        else:\n",
    "            cell = cellfn(frame)\n",
    "            cellhash = hashfn(cell)\n",
    "            cell = archive[cellhash]\n",
    "            first_visit = cell.visit()\n",
    "            if first_visit or score > cell.reward or score == cell.reward and len(trajectory) < len(cell.trajectory):\n",
    "                cell.ram = env.env.clone_full_state()\n",
    "                cell.reward = score\n",
    "                cell.trajectory = trajectory.copy()\n",
    "                cell.times_chosen = 0\n",
    "                cell.times_chosen_since_new = 0\n",
    "                found_new_cell = True\n",
    "\n",
    "    if found_new_cell and iterations > 0:\n",
    "        restore_cell.times_chosen_since_new = 0\n",
    "\n",
    "    iterations += 1\n",
    "    scores = np.array([cell.score for cell in archive.values()])\n",
    "    hashes = [*archive]\n",
    "    probs = scores / scores.sum()\n",
    "    restore = np.random.choice(hashes, p = probs)\n",
    "    restore_cell = archive[restore]\n",
    "    ram, score, trajectory = restore_cell.choose()\n",
    "    env.reset()\n",
    "    env.env.restore_full_state(ram)\n",
    "\n",
    "    if iterations % 500 == 0:\n",
    "        print(\"Iterations: %d, Cells: %d, Frames: %d, Max Reward: %d\" % (iterations, len(archive), frames, highscore))"
   ]
  },
  {
   "cell_type": "code",
   "execution_count": null,
   "metadata": {},
   "outputs": [],
   "source": []
  },
  {
   "cell_type": "code",
   "execution_count": 7,
   "metadata": {},
   "outputs": [],
   "source": [
    "c = list(archive.values())[1]"
   ]
  },
  {
   "cell_type": "code",
   "execution_count": 8,
   "metadata": {},
   "outputs": [
    {
     "data": {
      "text/plain": [
       "<__main__.Cell at 0x7f1f0cd36af0>"
      ]
     },
     "execution_count": 8,
     "metadata": {},
     "output_type": "execute_result"
    }
   ],
   "source": [
    "c"
   ]
  },
  {
   "cell_type": "code",
   "execution_count": 12,
   "metadata": {},
   "outputs": [],
   "source": [
    "\n",
    "from gym.envs.classic_control import rendering\n",
    "def repeat_upsample(rgb_array, k=1, l=1, err=[]):\n",
    "    # repeat kinda crashes if k/l are zero\n",
    "    if k <= 0 or l <= 0: \n",
    "        if not err: \n",
    "            err.append('logged')\n",
    "        return rgb_array\n",
    "\n",
    "    # repeat the pixels k times along the y axis and l times along the x axis\n",
    "    # if the input image is of shape (m,n,3), the output image will be of shape (k*m, l*n, 3)\n",
    "\n",
    "    return np.repeat(np.repeat(rgb_array, k, axis=0), l, axis=1)\n",
    "\n",
    "viewer = rendering.SimpleImageViewer()"
   ]
  },
  {
   "cell_type": "code",
   "execution_count": 13,
   "metadata": {},
   "outputs": [],
   "source": [
    "replay(c.trajectory)"
   ]
  },
  {
   "cell_type": "code",
   "execution_count": 10,
   "metadata": {},
   "outputs": [],
   "source": [
    "def replay(trajectory):\n",
    "    env.reset()\n",
    "    done = False\n",
    "    for action in trajectory:\n",
    "        _, _, done, _ = env.step(action)\n",
    "        \n",
    "        rgb = env.render('rgb_array')\n",
    "        img = repeat_upsample(rgb, 4, 4)\n",
    "        viewer.imshow(img)\n",
    "        \n",
    "        if done: break\n",
    "        \n",
    "    env.close()"
   ]
  },
  {
   "cell_type": "code",
   "execution_count": 14,
   "metadata": {},
   "outputs": [
    {
     "data": {
      "text/plain": [
       "5756"
      ]
     },
     "execution_count": 14,
     "metadata": {},
     "output_type": "execute_result"
    }
   ],
   "source": [
    "len(c.trajectory)"
   ]
  },
  {
   "cell_type": "code",
   "execution_count": 6,
   "metadata": {},
   "outputs": [
    {
     "data": {
      "text/plain": [
       "18.0"
      ]
     },
     "execution_count": 6,
     "metadata": {},
     "output_type": "execute_result"
    }
   ],
   "source": [
    "[cell.reward for cell in archive.values()][1]"
   ]
  }
 ],
 "metadata": {
  "kernelspec": {
   "display_name": "Python 3",
   "language": "python",
   "name": "python3"
  },
  "language_info": {
   "codemirror_mode": {
    "name": "ipython",
    "version": 3
   },
   "file_extension": ".py",
   "mimetype": "text/x-python",
   "name": "python",
   "nbconvert_exporter": "python",
   "pygments_lexer": "ipython3",
   "version": "3.8.3"
  }
 },
 "nbformat": 4,
 "nbformat_minor": 4
}
