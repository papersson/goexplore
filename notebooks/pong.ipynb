{
 "cells": [
  {
   "cell_type": "code",
   "execution_count": 1,
   "metadata": {},
   "outputs": [],
   "source": [
    "import random\n",
    "import sys\n",
    "#sys.path.append('/home/elgutto/Documents/masters/goexplore/atari/lib/python3.8/site-packages')\n",
    "import gym\n",
    "import numpy as np\n",
    "import matplotlib.pyplot as plt\n",
    "from scipy import ndimage\n",
    "from tqdm import tqdm\n",
    "from copy import deepcopy\n",
    "import datetime\n",
    "from pathlib import Path\n",
    "import time\n",
    "from datetime import timedelta\n",
    "import json\n",
    "from collections import namedtuple\n",
    "from PIL import Image\n",
    "import cv2"
   ]
  },
  {
   "cell_type": "code",
   "execution_count": 2,
   "metadata": {},
   "outputs": [],
   "source": [
    "class RandomAgent:\n",
    "    def __init__(self, action_space):\n",
    "        self.action_space = action_space\n",
    "        \n",
    "    def act(self):\n",
    "        return random.choice(self.action_space)\n",
    "\n",
    "# From https://github.com/uber-research/go-explore/blob/240056852514ffc39f62d32ae7590a39fd1814b9/policy_based/goexplore_py/explorers.py#L26\n",
    "# Repeats actions with 95% probability\n",
    "# TODO: is it equivalent to sticky actions?\n",
    "class ActionRepetitionAgent:\n",
    "    def __init__(self, action_space, mean_repeat=20):\n",
    "        self.action_space = action_space\n",
    "        self.mean_repeat = mean_repeat\n",
    "        self.action = 0 # noop\n",
    "        self.remaining = 0\n",
    "        \n",
    "    def act(self):\n",
    "        if self.remaining <= 0:\n",
    "            self.remaining = np.random.geometric(1 / self.mean_repeat)\n",
    "            self.action = random.choice(self.action_space)\n",
    "        self.remaining -= 1\n",
    "        return self.action\n",
    "            "
   ]
  },
  {
   "cell_type": "code",
   "execution_count": 3,
   "metadata": {},
   "outputs": [
    {
     "name": "stderr",
     "output_type": "stream",
     "text": [
      "Failed to establish dbus connection"
     ]
    }
   ],
   "source": [
    "# https://gist.github.com/mttk/74dc6eaaea83b9f06c2cc99584d45f96\n",
    "# Larger rendering video\n",
    "from gym.envs.classic_control import rendering\n",
    "def repeat_upsample(rgb_array, k=1, l=1, err=[]):\n",
    "    # repeat kinda crashes if k/l are zero\n",
    "    if k <= 0 or l <= 0: \n",
    "        if not err: \n",
    "            err.append('logged')\n",
    "        return rgb_array\n",
    "\n",
    "    # repeat the pixels k times along the y axis and l times along the x axis\n",
    "    # if the input image is of shape (m,n,3), the output image will be of shape (k*m, l*n, 3)\n",
    "\n",
    "    return np.repeat(np.repeat(rgb_array, k, axis=0), l, axis=1)\n",
    "\n",
    "viewer = rendering.SimpleImageViewer()"
   ]
  },
  {
   "cell_type": "code",
   "execution_count": 4,
   "metadata": {},
   "outputs": [],
   "source": [
    "import itertools\n",
    "class Cell:\n",
    "    id_iter = itertools.count()\n",
    "    def __init__(self, representation, simulator_state, actions_taken, score):\n",
    "        self.visits = 0\n",
    "        self.done = False\n",
    "        self.update(representation, simulator_state, actions_taken, score)\n",
    "        self.id = next(self.id_iter)\n",
    "        \n",
    "    def update(self, representation, simulator_state, actions_taken, score):\n",
    "        self.representation = to_sparse(representation)\n",
    "        self.simulator_state = simulator_state\n",
    "        self.actions_taken = actions_taken\n",
    "        self.score = score\n",
    "    \n",
    "    def increment_visits(self):\n",
    "        self.visits += 1\n",
    "        \n",
    "    def restore_state(self, env):\n",
    "        env.unwrapped.restore_state(self.simulator_state)\n",
    "        \n",
    "    def history(self):\n",
    "        return deepcopy(self.actions_taken), deepcopy(self.score)\n",
    "    \n",
    "    def is_worse(self, score, actions_taken_length):\n",
    "        return ((score > self.score) \n",
    "                or (score == self.score and actions_taken_length < len(self.actions_taken)))\n",
    "    \n",
    "    def set_done(self):\n",
    "        self.done = True\n",
    "    \n",
    "    def __repr__(self):\n",
    "        return f'Cell(score={self.score}, traj_len={len(self.actions_taken)}, visits={self.visits}, done={self.done})'\n",
    "    \n",
    "    # Make sortable\n",
    "    def __eq__(self, other):\n",
    "        return self.score == other.score and self.lenght == other.length\n",
    "    \n",
    "    def __lt__(self, other):\n",
    "        return (-self.score, len(self.actions_taken)) < (-other.score, len(other.actions_taken))\n",
    "    \n",
    "def cell_repr(img):\n",
    "    # Crop and resize\n",
    "    img = img[34:194:2, ::2]\n",
    "    #img = img[::2, ::2] # Don't crop\n",
    "    #img = img[34:194, :]\n",
    "\n",
    "    # Convert to greyscale\n",
    "    #img = cv2.cvtColor(img, cv2.COLOR_RGB2GRAY)\n",
    "    img = img.mean(axis=2)\n",
    "\n",
    "    # Shrink\n",
    "    # https://github.com/uber-research/go-explore/blob/240056852514ffc39f62d32ae7590a39fd1814b9/robustified/goexplore_py/utils.py#L67\n",
    "    #img = cv2.resize(img, (14, 14), interpolation=cv2.INTER_AREA)\n",
    "    img = ndimage.interpolation.zoom(img, 0.1)\n",
    "    \n",
    "    # Binarize\n",
    "    img = np.round(img, 2)\n",
    "    threshold = 77.7\n",
    "    img[img < threshold] = 0\n",
    "    img[img >= threshold] = 254\n",
    "    img[img == 0] = 255\n",
    "    img[img == 254] = 0\n",
    "    \n",
    "    # Reduce pixel depth\n",
    "    #img = color_quantize(img, 10)\n",
    "\n",
    "    #return tuple(img.flatten())\n",
    "    return img\n",
    "\n",
    "def color_quantize(img, n_colors):\n",
    "    bits = np.log2(n_colors)\n",
    "    diff = 8 - bits # Assumes 2^8 = 256 original pixel depth\n",
    "    K = 2**diff\n",
    "    \n",
    "    img = K * (img // K)\n",
    "    return img\n",
    "\n",
    "\n",
    "def stringify(cell_representation):\n",
    "    s = ''\n",
    "    for v in cell_representation:\n",
    "        s += '1' if v == 255 else '0'\n",
    "    return s\n",
    "\n",
    "def to_sparse(representation):\n",
    "    res = []\n",
    "    for i, v in enumerate(representation):\n",
    "        if v == 0.0:\n",
    "            res.append(i)\n",
    "    return tuple(res)"
   ]
  },
  {
   "cell_type": "code",
   "execution_count": 5,
   "metadata": {},
   "outputs": [],
   "source": [
    "img_paths = []\n",
    "curr_cells = []\n",
    "archive_states = []\n",
    "def explore(env, agent, archive, cell, stickyness, maxsteps, n_iterations, n_frames, highscore, visualize=False):\n",
    "    state = env.reset()\n",
    "    cell.restore_state(env)\n",
    "    actions_taken, score = cell.history()\n",
    "    \n",
    "    done = False\n",
    "    n_steps = 0\n",
    "    seen_cells = set() # Track cells seen during the episode\n",
    "    \n",
    "    action = agent.act()\n",
    "    while (not done and n_steps < maxsteps):\n",
    "        seen = 0\n",
    "        update = []\n",
    "        # Interact\n",
    "        if random.random() > stickyness:\n",
    "            action = agent.act()\n",
    "        \n",
    "        state, reward, done, _ = env.step(action)\n",
    "        actions_taken.append(action)\n",
    "        \n",
    "        score += reward\n",
    "        if score > highscore:\n",
    "            highscore = score\n",
    "            print(f'New highscore: {highscore}')\n",
    "        \n",
    "        # Update or add cell to archive\n",
    "        cell_img = cell_repr(state).astype(np.uint8)\n",
    "        cell_representation = tuple(cell_img.flatten())\n",
    "        # Scale back up using NEAREST to original size\n",
    "        #cell_img = cv2.resize(cell_img, (160, 160), Image.NEAREST)\n",
    "        #cv2.imwrite(f'viz/images/cells/cell{n_frames:07}.png', cell_img, [cv2.IMWRITE_PNG_COMPRESSION, 0])\n",
    "        #Image.fromarray(cell_img).save(f'viz/images/cells/cell{n_frames:07}.tiff')\n",
    "        cell = _update_or_create_cell(archive, cell_representation, env, score, deepcopy(actions_taken))\n",
    "        \n",
    "        # Increment visit count if cell not seen during the episode\n",
    "        if cell_representation not in seen_cells:\n",
    "            seen_cells.add(cell_representation)\n",
    "            cell.increment_visits()\n",
    "            seen = 1\n",
    "        \n",
    "        #data.append([cell_img.tolist(), seen, cell.visits, update])\n",
    "        Image.fromarray(state).save(f'viz/images_short/screen{n_frames:07}.png')\n",
    "        img_paths.append(f'data/images_short/screen{n_frames:07}.png')\n",
    "        curr_cells.append({'cell_sparse': cell.representation, 'cell_id': cell.id})\n",
    "        archive_states.append(to_state(archive.values()))\n",
    "        n_steps += 1\n",
    "        n_frames += 1\n",
    "        \n",
    "        if done: \n",
    "            cell.set_done()\n",
    "            break\n",
    "    \n",
    "    n_iterations += 1\n",
    "    return highscore, n_frames, n_iterations\n",
    "\n",
    "def _update_or_create_cell(archive, cell_representation, env, score, actions_taken):\n",
    "    if cell_representation in archive:\n",
    "        cell = archive[cell_representation]\n",
    "        if cell.is_worse(score, len(actions_taken)):\n",
    "            simulator_state = env.unwrapped.clone_state(include_rng=True)\n",
    "            cell.update(cell_representation, simulator_state, actions_taken, score)\n",
    "    else:\n",
    "        simulator_state = env.unwrapped.clone_state(include_rng=True)\n",
    "        cell = Cell(cell_representation, simulator_state, actions_taken, score)\n",
    "        archive[cell_representation] = cell\n",
    "    return cell \n",
    "\n",
    "\n",
    "def to_state(archive):\n",
    "    table = []\n",
    "    for cell in sorted(archive)[:25]:\n",
    "        table.append({'cell_id': cell.id, 'cell': cell.representation, 'visits': cell.visits, 'score': cell.score, 'num_action': len(cell.actions_taken)})\n",
    "        #table.append({'cell': (1, 2, 3), 'visits': cell.visits, 'score': cell.score})\n",
    "    return table\n",
    "\n"
   ]
  },
  {
   "cell_type": "code",
   "execution_count": 6,
   "metadata": {},
   "outputs": [],
   "source": [
    "Experience = namedtuple('Experience', 'state action reward done')\n",
    "\n",
    "from knockknock import email_sender\n",
    "@email_sender(recipient_emails=['goexploremsc@gmail.com'])\n",
    "def run_experiment(agent, params, below_threshold, path):\n",
    "    stickyness, max_steps, seed, *comment = params.values()\n",
    "    \n",
    "    start = time.time()\n",
    "    np.random.seed(seed)\n",
    "    random.seed(seed)\n",
    "    env = gym.make('PongDeterministic-v4')\n",
    "    env.seed(seed)\n",
    "    env.action_space.seed(seed)\n",
    "    \n",
    "    #action_space = [0, 2, 3] # noop, up, down\n",
    "    #agent = RandomAgent(action_space)\n",
    "\n",
    "    # Initialize state\n",
    "    start_state = env.reset()\n",
    "\n",
    "    # Create initial cell\n",
    "    simulator_state = env.unwrapped.clone_state(include_rng=True)\n",
    "    actions_taken = []\n",
    "    score = 0.0\n",
    "\n",
    "    # Create archive and add initial cell\n",
    "    archive = {}\n",
    "    cell_img = cell_repr(start_state)\n",
    "    cell_representation = tuple(cell_img.flatten())\n",
    "    cell = Cell(cell_representation, simulator_state, actions_taken, score)\n",
    "    print(cell.representation)\n",
    "    archive[cell_representation] = cell\n",
    "    cell.increment_visits()\n",
    "\n",
    "    # Explore until step threshold reached\n",
    "    highscore, n_frames, n_iterations = 0, 0, 0\n",
    "    logs = {}\n",
    "    scores = []\n",
    "    n_cells = []\n",
    "    for _ in tqdm(while_generator(below_threshold(n_frames))):\n",
    "        if not below_threshold(n_frames):\n",
    "            break\n",
    "        \n",
    "        visits = [cell.visits for cell in archive.values()]\n",
    "        #weights = [1 / np.log(c.visits + 1) for c in archive.values()]\n",
    "        #probs = [w / sum(weights) for w in weights]\n",
    "        rev_counts = [max(visits) + 1 - v for v in visits]\n",
    "        probs = [v / sum(rev_counts) for v in rev_counts]\n",
    "        cell = np.random.choice(list(archive.values()), 1, p=probs)[0]\n",
    "        \n",
    "        highscore, n_frames, n_iterations = explore(env, agent, archive, cell, stickyness, max_steps, n_iterations, n_frames, highscore)\n",
    "        \n",
    "        scores.append(highscore)\n",
    "        n_cells.append(len(archive))\n",
    "        \n",
    "        if n_frames % 500000 == 0:\n",
    "            print(f'Iterations: {n_iterations}\\tFrames: {n_frames}\\tScore: {highscore}\\t Cells: {len(archive)}')\n",
    "            \n",
    "    # Extract cell that reached terminal state with highest score and smallest trajectory\n",
    "    cells = list(archive.values())\n",
    "    solved_cells = [cell for cell in cells if cell.done is True]\n",
    "    best_cell = sorted(solved_cells)[0] if solved_cells else sorted(cells)[0]\n",
    "    \n",
    "    # Save logs to json file\n",
    "    elapsed = (time.time() - start)\n",
    "    logs['time'] = str(timedelta(seconds=elapsed))\n",
    "    logs['n_frames'] = n_frames\n",
    "    logs['n_iterations'] = n_iterations\n",
    "    logs['highscore'] = highscore\n",
    "    logs['actions_taken'] = best_cell.actions_taken\n",
    "    logs['scores'] = scores\n",
    "    logs['n_cells'] = n_cells\n",
    "    #save(logs, path, params)\n",
    "    \n",
    "    print(f'Highscore: {highscore}')\n",
    "    return highscore\n",
    "    \n",
    "# https://stackoverflow.com/questions/45808140/using-tqdm-progress-bar-in-a-while-loop\n",
    "def while_generator(condition):\n",
    "    while condition:\n",
    "        yield\n",
    "        \n",
    "def save(logs, path, params):\n",
    "    file_name = ''\n",
    "    for name, value in params.items():\n",
    "        file_name += f'{name}{value}_'\n",
    "    file_name += '.json'\n",
    "    file_path = path / file_name\n",
    "    with file_path.open('w', encoding='utf-8') as fp:\n",
    "        json.dump(logs, fp, indent=4)"
   ]
  },
  {
   "cell_type": "code",
   "execution_count": 7,
   "metadata": {},
   "outputs": [],
   "source": [
    "def run_experiments(experiment_name, seeds, stickyness_grid, max_steps_grid, below_threshold):\n",
    "    # Create folder with format {date_experimentname}\n",
    "    date = datetime.datetime.now().strftime(\"%Y-%m-%d-%H:%M:%S\")\n",
    "    path = Path(f'experiments/{date}_{experiment_name}')\n",
    "    path.mkdir(exist_ok=True)\n",
    "    \n",
    "    action_space = [0, 2, 3] # noop, up, down\n",
    "    agent = ActionRepetitionAgent(action_space)\n",
    "    comment = ''\n",
    "    for seed in seeds:\n",
    "        for stickyness in stickyness_grid:\n",
    "            for max_steps in max_steps_grid:\n",
    "                params = {'stickyness': stickyness, 'maxsteps': max_steps, 'seed': seed}\n",
    "                run_experiment(agent, params, below_threshold, path)"
   ]
  },
  {
   "cell_type": "code",
   "execution_count": null,
   "metadata": {},
   "outputs": [
    {
     "name": "stderr",
     "output_type": "stream",
     "text": [
      "A.L.E: Arcade Learning Environment (version +978d2ce)\n",
      "[Powered by Stella]\n"
     ]
    },
    {
     "name": "stdout",
     "output_type": "stream",
     "text": [
      "(0, 1, 2, 3, 4, 5, 6, 7, 8, 9, 10, 11, 12, 13, 14, 15, 16, 17, 18, 19, 20, 21, 22, 23, 24, 25, 26, 27, 28, 29, 30, 31, 32, 33, 34, 35, 36, 37, 38, 39, 40, 41, 42, 43, 44, 45, 46, 47, 48, 49, 50, 51, 52, 53, 54, 55, 56, 57, 58, 59, 60, 61, 62, 63)\n"
     ]
    },
    {
     "name": "stderr",
     "output_type": "stream",
     "text": [
      "174it [01:02,  2.69it/s]"
     ]
    },
    {
     "name": "stdout",
     "output_type": "stream",
     "text": [
      "New highscore: 1.0\n"
     ]
    },
    {
     "name": "stderr",
     "output_type": "stream",
     "text": [
      "861it [06:18,  1.87it/s]"
     ]
    },
    {
     "name": "stdout",
     "output_type": "stream",
     "text": [
      "New highscore: 2.0\n"
     ]
    },
    {
     "name": "stderr",
     "output_type": "stream",
     "text": [
      "1185it [09:13,  1.68it/s]"
     ]
    },
    {
     "name": "stdout",
     "output_type": "stream",
     "text": [
      "New highscore: 3.0\n"
     ]
    },
    {
     "name": "stderr",
     "output_type": "stream",
     "text": [
      "2175it [19:52,  1.37it/s]"
     ]
    },
    {
     "name": "stdout",
     "output_type": "stream",
     "text": [
      "New highscore: 4.0\n"
     ]
    },
    {
     "name": "stderr",
     "output_type": "stream",
     "text": [
      "2662it [24:47,  1.86it/s]"
     ]
    },
    {
     "name": "stdout",
     "output_type": "stream",
     "text": [
      "New highscore: 5.0\n"
     ]
    },
    {
     "name": "stderr",
     "output_type": "stream",
     "text": [
      "3293it [30:34,  1.78it/s]"
     ]
    },
    {
     "name": "stdout",
     "output_type": "stream",
     "text": [
      "New highscore: 6.0\n"
     ]
    },
    {
     "name": "stderr",
     "output_type": "stream",
     "text": [
      "4007it [37:27,  1.71it/s]"
     ]
    },
    {
     "name": "stdout",
     "output_type": "stream",
     "text": [
      "New highscore: 7.0\n"
     ]
    },
    {
     "name": "stderr",
     "output_type": "stream",
     "text": [
      "5000it [47:31,  1.61it/s]"
     ]
    },
    {
     "name": "stdout",
     "output_type": "stream",
     "text": [
      "Iterations: 5000\tFrames: 500000\tScore: 7.0\t Cells: 1114\n"
     ]
    },
    {
     "name": "stderr",
     "output_type": "stream",
     "text": [
      "5704it [54:53,  1.59it/s]"
     ]
    },
    {
     "name": "stdout",
     "output_type": "stream",
     "text": [
      "New highscore: 8.0\n"
     ]
    },
    {
     "name": "stderr",
     "output_type": "stream",
     "text": [
      "6741it [1:06:07,  1.51it/s]"
     ]
    },
    {
     "name": "stdout",
     "output_type": "stream",
     "text": [
      "New highscore: 9.0\n"
     ]
    },
    {
     "name": "stderr",
     "output_type": "stream",
     "text": [
      "7687it [1:16:33,  1.49it/s]"
     ]
    },
    {
     "name": "stdout",
     "output_type": "stream",
     "text": [
      "New highscore: 10.0\n"
     ]
    },
    {
     "name": "stderr",
     "output_type": "stream",
     "text": [
      "7986it [1:19:55,  1.48it/s]"
     ]
    },
    {
     "name": "stdout",
     "output_type": "stream",
     "text": [
      "New highscore: 11.0\n"
     ]
    },
    {
     "name": "stderr",
     "output_type": "stream",
     "text": [
      "8350it [1:24:01,  1.49it/s]"
     ]
    },
    {
     "name": "stdout",
     "output_type": "stream",
     "text": [
      "New highscore: 12.0\n"
     ]
    },
    {
     "name": "stderr",
     "output_type": "stream",
     "text": [
      "9645it [1:38:44,  1.45it/s]"
     ]
    },
    {
     "name": "stdout",
     "output_type": "stream",
     "text": [
      "New highscore: 13.0\n"
     ]
    },
    {
     "name": "stderr",
     "output_type": "stream",
     "text": [
      "10000it [1:42:48,  1.46it/s]"
     ]
    },
    {
     "name": "stdout",
     "output_type": "stream",
     "text": [
      "Iterations: 10000\tFrames: 1000000\tScore: 13.0\t Cells: 1269\n"
     ]
    },
    {
     "name": "stderr",
     "output_type": "stream",
     "text": [
      "11279it [1:57:33,  1.42it/s]"
     ]
    },
    {
     "name": "stdout",
     "output_type": "stream",
     "text": [
      "New highscore: 14.0\n"
     ]
    },
    {
     "name": "stderr",
     "output_type": "stream",
     "text": [
      "12081it [2:06:57,  1.42it/s]"
     ]
    },
    {
     "name": "stdout",
     "output_type": "stream",
     "text": [
      "New highscore: 15.0\n"
     ]
    },
    {
     "name": "stderr",
     "output_type": "stream",
     "text": [
      "14586it [2:36:36,  1.38it/s]"
     ]
    },
    {
     "name": "stdout",
     "output_type": "stream",
     "text": [
      "New highscore: 16.0\n"
     ]
    },
    {
     "name": "stderr",
     "output_type": "stream",
     "text": [
      "15000it [2:41:34,  1.40it/s]"
     ]
    },
    {
     "name": "stdout",
     "output_type": "stream",
     "text": [
      "Iterations: 15000\tFrames: 1500000\tScore: 16.0\t Cells: 1317\n"
     ]
    },
    {
     "name": "stderr",
     "output_type": "stream",
     "text": [
      "16336it [2:57:49,  1.35it/s]"
     ]
    },
    {
     "name": "stdout",
     "output_type": "stream",
     "text": [
      "New highscore: 17.0\n"
     ]
    },
    {
     "name": "stderr",
     "output_type": "stream",
     "text": [
      "17545it [3:21:30, 26.28s/it]"
     ]
    }
   ],
   "source": [
    "# ~2.6M for 21\n",
    "experiment_name = 'viz-data'\n",
    "seeds = [3533]\n",
    "\n",
    "stickyness_grid = [0.0]\n",
    "max_steps_grid = [100]\n",
    "below_threshold = lambda x: x < 2500000\n",
    "\n",
    "run_experiments(experiment_name, seeds, stickyness_grid, max_steps_grid, below_threshold)"
   ]
  },
  {
   "cell_type": "code",
   "execution_count": null,
   "metadata": {},
   "outputs": [],
   "source": [
    "\n",
    "        if n_frames < 1000 or (n_frames > 2400 and n_frames < 3400):"
   ]
  },
  {
   "cell_type": "code",
   "execution_count": 10,
   "metadata": {},
   "outputs": [
    {
     "data": {
      "text/plain": [
       "(1599, 1599, 1599)"
      ]
     },
     "execution_count": 10,
     "metadata": {},
     "output_type": "execute_result"
    }
   ],
   "source": [
    "len(curr_cells), len(img_paths), len(archive_states)"
   ]
  },
  {
   "cell_type": "code",
   "execution_count": 4,
   "metadata": {},
   "outputs": [],
   "source": [
    "import os\n",
    "filenames = [f'./images/frames/{f}' for i, f in enumerate(sorted(os.listdir('viz/images/frames'))) if (len(f) == 17 and (i < 1000 or (i > 2400 and i < 3400)))]\n",
    "#to_save = {'file_names': filenames}\n",
    "import json\n",
    "#with open('viz/data.json', 'w', encoding='utf-8') as f:\n",
    "    #json.dump(d, f, indent=4)"
   ]
  },
  {
   "cell_type": "code",
   "execution_count": 5,
   "metadata": {},
   "outputs": [
    {
     "data": {
      "text/plain": [
       "1997"
      ]
     },
     "execution_count": 5,
     "metadata": {},
     "output_type": "execute_result"
    }
   ],
   "source": [
    "len(filenames)"
   ]
  },
  {
   "cell_type": "code",
   "execution_count": 10,
   "metadata": {},
   "outputs": [],
   "source": [
    "to_save['archive'] = data"
   ]
  },
  {
   "cell_type": "code",
   "execution_count": 21,
   "metadata": {},
   "outputs": [],
   "source": [
    "to_save = {'images': img_paths, 'cell_states': curr_cells, 'archive_states': archive_states}"
   ]
  },
  {
   "cell_type": "code",
   "execution_count": 22,
   "metadata": {},
   "outputs": [],
   "source": [
    "import json\n",
    "with open('viz/data_short.json', 'w', encoding='utf-8') as f:\n",
    "    json.dump(to_save, f, indent=4)"
   ]
  },
  {
   "cell_type": "code",
   "execution_count": 13,
   "metadata": {},
   "outputs": [
    {
     "data": {
      "text/plain": [
       "{'img_path': 'data/images_short/screen0000000.png',\n",
       " 'cell_sparse': (30,),\n",
       " 'cell_id': 1,\n",
       " 'archive': [{'cell': (0,\n",
       "    1,\n",
       "    2,\n",
       "    3,\n",
       "    4,\n",
       "    5,\n",
       "    6,\n",
       "    7,\n",
       "    8,\n",
       "    9,\n",
       "    10,\n",
       "    11,\n",
       "    12,\n",
       "    13,\n",
       "    14,\n",
       "    15,\n",
       "    16,\n",
       "    17,\n",
       "    18,\n",
       "    19,\n",
       "    20,\n",
       "    21,\n",
       "    22,\n",
       "    23,\n",
       "    24,\n",
       "    25,\n",
       "    26,\n",
       "    27,\n",
       "    28,\n",
       "    29,\n",
       "    30,\n",
       "    31,\n",
       "    32,\n",
       "    33,\n",
       "    34,\n",
       "    35,\n",
       "    36,\n",
       "    37,\n",
       "    38,\n",
       "    39,\n",
       "    40,\n",
       "    41,\n",
       "    42,\n",
       "    43,\n",
       "    44,\n",
       "    45,\n",
       "    46,\n",
       "    47,\n",
       "    48,\n",
       "    49,\n",
       "    50,\n",
       "    51,\n",
       "    52,\n",
       "    53,\n",
       "    54,\n",
       "    55,\n",
       "    56,\n",
       "    57,\n",
       "    58,\n",
       "    59,\n",
       "    60,\n",
       "    61,\n",
       "    62,\n",
       "    63),\n",
       "   'visits': 1,\n",
       "   'score': 0.0},\n",
       "  {'cell': (30,), 'visits': 1, 'score': 0.0}]}"
      ]
     },
     "execution_count": 13,
     "metadata": {},
     "output_type": "execute_result"
    }
   ],
   "source": [
    "data[0]"
   ]
  },
  {
   "cell_type": "code",
   "execution_count": 12,
   "metadata": {},
   "outputs": [],
   "source": [
    "with open('viz/data.json', 'w', encoding='utf-8') as f:\n",
    "    json.dump(d, f, indent=4)"
   ]
  },
  {
   "cell_type": "code",
   "execution_count": 10,
   "metadata": {},
   "outputs": [
    {
     "data": {
      "text/plain": [
       "4000001"
      ]
     },
     "execution_count": 10,
     "metadata": {},
     "output_type": "execute_result"
    }
   ],
   "source": [
    "len(data)"
   ]
  },
  {
   "cell_type": "code",
   "execution_count": 9,
   "metadata": {},
   "outputs": [],
   "source": [
    "with open('viz/data.json') as f:\n",
    "    d = json.load(f)"
   ]
  },
  {
   "cell_type": "code",
   "execution_count": 11,
   "metadata": {},
   "outputs": [],
   "source": [
    "d['archive'] = data"
   ]
  },
  {
   "cell_type": "code",
   "execution_count": 18,
   "metadata": {},
   "outputs": [
    {
     "data": {
      "text/plain": [
       "[]"
      ]
     },
     "execution_count": 18,
     "metadata": {},
     "output_type": "execute_result"
    }
   ],
   "source": [
    "data[3][2]"
   ]
  },
  {
   "cell_type": "code",
   "execution_count": 45,
   "metadata": {},
   "outputs": [
    {
     "data": {
      "text/plain": [
       "<matplotlib.image.AxesImage at 0x7f239816c7f0>"
      ]
     },
     "execution_count": 45,
     "metadata": {},
     "output_type": "execute_result"
    },
    {
     "data": {
      "image/png": "[encoded data removed]",
      "text/plain": [
       "<Figure size 432x288 with 1 Axes>"
      ]
     },
     "metadata": {
      "needs_background": "light"
     },
     "output_type": "display_data"
    }
   ],
   "source": [
    "plt.imshow(d)"
   ]
  },
  {
   "cell_type": "code",
   "execution_count": 11,
   "metadata": {},
   "outputs": [],
   "source": [
    "def read_actions(json_file):\n",
    "    with open(json_file) as f:\n",
    "        d = json.load(f)\n",
    "        return d['actions_taken']\n",
    "    \n",
    "def demo_from_actions(actions, env):\n",
    "    env.reset()\n",
    "    done = False\n",
    "    demonstration = []\n",
    "    for action in actions:\n",
    "        state, reward, done, _ = env.step(action)\n",
    "        demonstration.append(Experience(state, action, reward, done))\n",
    "        if done: break\n",
    "    env.close()\n",
    "    return demonstration\n",
    "\n",
    "def replay(actions_taken, env):\n",
    "    env.reset()\n",
    "    done = False\n",
    "    for action in actions_taken:\n",
    "        _, _, done, _ = env.step(action)\n",
    "        \n",
    "        rgb = env.render('rgb_array')\n",
    "        img = repeat_upsample(rgb, 8, 8)\n",
    "        viewer.imshow(img)\n",
    "        \n",
    "        if done: break\n",
    "        \n",
    "    env.close()"
   ]
  },
  {
   "cell_type": "code",
   "execution_count": 22,
   "metadata": {},
   "outputs": [
    {
     "data": {
      "text/plain": [
       "<matplotlib.image.AxesImage at 0x7f7f5b18ab80>"
      ]
     },
     "execution_count": 22,
     "metadata": {},
     "output_type": "execute_result"
    },
    {
     "data": {
      "image/png": "[encoded data removed]",
      "text/plain": [
       "<Figure size 432x288 with 1 Axes>"
      ]
     },
     "metadata": {
      "needs_background": "light"
     },
     "output_type": "display_data"
    }
   ],
   "source": [
    "env = gym.make('PongDeterministic-v4')\n",
    "state = env.reset()\n",
    "for _ in range(200):\n",
    "    action = env.action_space.sample()\n",
    "    state, _, _, _ = env.step(action)\n",
    "plt.imshow(state)"
   ]
  },
  {
   "cell_type": "code",
   "execution_count": 21,
   "metadata": {},
   "outputs": [
    {
     "data": {
      "text/plain": [
       "<matplotlib.image.AxesImage at 0x7f061baa0070>"
      ]
     },
     "execution_count": 21,
     "metadata": {},
     "output_type": "execute_result"
    },
    {
     "data": {
      "image/png": "[encoded data removed]",
      "text/plain": [
       "<Figure size 432x288 with 1 Axes>"
      ]
     },
     "metadata": {
      "needs_background": "light"
     },
     "output_type": "display_data"
    }
   ],
   "source": [
    "def downscale(img):\n",
    "    # Crop and resize\n",
    "    img = img[34:194, :]\n",
    "\n",
    "    # Convert to greyscale\n",
    "    img = cv2.cvtColor(img, cv2.COLOR_RGB2GRAY)\n",
    "\n",
    "    # Shrink\n",
    "    # https://github.com/uber-research/go-explore/blob/240056852514ffc39f62d32ae7590a39fd1814b9/robustified/goexplore_py/utils.py#L67\n",
    "    img = cv2.resize(img, (16, 16), interpolation=cv2.INTER_AREA)\n",
    "    \n",
    "    # Binarize\n",
    "    #img = np.round(img, 2)\n",
    "    #threshold = 77.7\n",
    "    #img[img < threshold] = 0\n",
    "    #img[img >= threshold] = 1\n",
    "    \n",
    "    # Reduce pixel depth\n",
    "    img = color_quantize(img, 8)\n",
    "\n",
    "    return img\n",
    "\n",
    "cell_repr = downscale(state)\n",
    "plt.imshow(cell_repr, cmap='gray')"
   ]
  },
  {
   "cell_type": "code",
   "execution_count": 26,
   "metadata": {},
   "outputs": [
    {
     "data": {
      "text/plain": [
       "array([[0., 0., 0., ..., 0., 0., 0.],\n",
       "       [0., 0., 0., ..., 0., 0., 0.],\n",
       "       [0., 0., 0., ..., 0., 0., 0.],\n",
       "       ...,\n",
       "       [0., 0., 0., ..., 0., 0., 0.],\n",
       "       [0., 0., 0., ..., 0., 0., 0.],\n",
       "       [0., 0., 0., ..., 0., 0., 0.]])"
      ]
     },
     "execution_count": 26,
     "metadata": {},
     "output_type": "execute_result"
    }
   ],
   "source": [
    "cell_repr"
   ]
  },
  {
   "cell_type": "code",
   "execution_count": 14,
   "metadata": {},
   "outputs": [],
   "source": [
    "p = Path('experiments/2021-12-06-20:40:15_frameskipdemos5M').glob('*')\n",
    "files = [x for x in p if x.is_file()]\n",
    "demonstrations = []\n",
    "for file in files:\n",
    "    env = gym.make('PongDeterministic-v4')\n",
    "    actions = read_actions(files[0])\n",
    "    demonstrations.append(demo_from_actions(actions, env))"
   ]
  },
  {
   "cell_type": "code",
   "execution_count": 17,
   "metadata": {},
   "outputs": [
    {
     "data": {
      "text/plain": [
       "Experience(state=array([[[  0,   0,   0],\n",
       "        [  0,   0,   0],\n",
       "        [  0,   0,   0],\n",
       "        ...,\n",
       "        [144,  72,  17],\n",
       "        [144,  72,  17],\n",
       "        [144,  72,  17]],\n",
       "\n",
       "       [[144,  72,  17],\n",
       "        [144,  72,  17],\n",
       "        [144,  72,  17],\n",
       "        ...,\n",
       "        [144,  72,  17],\n",
       "        [144,  72,  17],\n",
       "        [144,  72,  17]],\n",
       "\n",
       "       [[144,  72,  17],\n",
       "        [144,  72,  17],\n",
       "        [144,  72,  17],\n",
       "        ...,\n",
       "        [144,  72,  17],\n",
       "        [144,  72,  17],\n",
       "        [144,  72,  17]],\n",
       "\n",
       "       ...,\n",
       "\n",
       "       [[236, 236, 236],\n",
       "        [236, 236, 236],\n",
       "        [236, 236, 236],\n",
       "        ...,\n",
       "        [236, 236, 236],\n",
       "        [236, 236, 236],\n",
       "        [236, 236, 236]],\n",
       "\n",
       "       [[236, 236, 236],\n",
       "        [236, 236, 236],\n",
       "        [236, 236, 236],\n",
       "        ...,\n",
       "        [236, 236, 236],\n",
       "        [236, 236, 236],\n",
       "        [236, 236, 236]],\n",
       "\n",
       "       [[236, 236, 236],\n",
       "        [236, 236, 236],\n",
       "        [236, 236, 236],\n",
       "        ...,\n",
       "        [236, 236, 236],\n",
       "        [236, 236, 236],\n",
       "        [236, 236, 236]]], dtype=uint8), action=2, reward=0.0, done=False)"
      ]
     },
     "execution_count": 17,
     "metadata": {},
     "output_type": "execute_result"
    }
   ],
   "source": [
    "demonstrations[0][0]"
   ]
  },
  {
   "cell_type": "code",
   "execution_count": 13,
   "metadata": {},
   "outputs": [],
   "source": [
    "env = gym.make('PongDeterministic-v4')\n",
    "actions = read_actions('experiments/2021-12-06-20:40:15_frameskipdemos5M/stickyness0.0_maxsteps100_seed0_.json')\n",
    "demo = demo_from_actions(actions, env)\n",
    "replay(actions, env)"
   ]
  },
  {
   "cell_type": "code",
   "execution_count": null,
   "metadata": {},
   "outputs": [],
   "source": []
  }
 ],
 "metadata": {
  "kernelspec": {
   "display_name": "Atari",
   "language": "python",
   "name": "atari"
  },
  "language_info": {
   "codemirror_mode": {
    "name": "ipython",
    "version": 3
   },
   "file_extension": ".py",
   "mimetype": "text/x-python",
   "name": "python",
   "nbconvert_exporter": "python",
   "pygments_lexer": "ipython3",
   "version": "3.8.3"
  }
 },
 "nbformat": 4,
 "nbformat_minor": 4
}
