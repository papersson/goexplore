{
 "cells": [
  {
   "cell_type": "code",
   "execution_count": 1,
   "metadata": {},
   "outputs": [],
   "source": [
    "class Action:\n",
    "    def __init__(self, action, prev=None):\n",
    "        self.prev = prev\n",
    "        self.action = action\n",
    "        \n",
    "    def __repr__(self):\n",
    "        if self.action == 3:\n",
    "            return str(3)\n",
    "        else:\n",
    "            return str(2)\n",
    "        \n",
    "class Cell:\n",
    "    def __init__(self, actions=[]):\n",
    "        self.actions = actions\n",
    "        \n",
    "    def __repr__(self):\n",
    "        traj = ''\n",
    "        action = self.actions[-1]\n",
    "        while action.prev:\n",
    "#             traj += f'{str(action)} '\n",
    "\n",
    "            traj = str(action) + ' ' + traj\n",
    "            action = action.prev\n",
    "        return traj\n",
    "    \n",
    "    def full_traj(self):\n",
    "        actions = []\n",
    "        a = self.actions[-1]\n",
    "        while a.prev:\n",
    "            actions = [a.action] + actions\n",
    "            a = a.prev\n",
    "        actions = [a.action] + actions\n",
    "        return actions"
   ]
  },
  {
   "cell_type": "code",
   "execution_count": 2,
   "metadata": {},
   "outputs": [],
   "source": [
    "import random\n",
    "actions = []\n",
    "prev_action = None\n",
    "# actions.append(prev_action)\n",
    "for _ in range(4):\n",
    "    action = Action(random.randint(2, 3), prev=prev_action)\n",
    "    actions.append(action)\n",
    "    prev_action = action"
   ]
  },
  {
   "cell_type": "code",
   "execution_count": 3,
   "metadata": {},
   "outputs": [
    {
     "data": {
      "text/plain": [
       "[2, 3, 3, 3]"
      ]
     },
     "execution_count": 3,
     "metadata": {},
     "output_type": "execute_result"
    }
   ],
   "source": [
    "actions"
   ]
  },
  {
   "cell_type": "code",
   "execution_count": 4,
   "metadata": {},
   "outputs": [],
   "source": [
    "A = Cell(actions)\n",
    "\n",
    "actions = []\n",
    "# prev_action = Action(3)\n",
    "# actions.append(prev_action)\n",
    "for _ in range(6):\n",
    "    action = Action(random.randint(2, 3), prev=prev_action)\n",
    "    actions.append(action)\n",
    "    prev_action = action\n",
    "    \n",
    "B = Cell(actions)"
   ]
  },
  {
   "cell_type": "code",
   "execution_count": 5,
   "metadata": {},
   "outputs": [
    {
     "data": {
      "text/plain": [
       "[2, 2, 2, 3, 3, 3]"
      ]
     },
     "execution_count": 5,
     "metadata": {},
     "output_type": "execute_result"
    }
   ],
   "source": [
    "actions"
   ]
  },
  {
   "cell_type": "code",
   "execution_count": 6,
   "metadata": {},
   "outputs": [
    {
     "data": {
      "text/plain": [
       "[2, 3, 3, 3, 2, 2, 2, 3, 3, 3]"
      ]
     },
     "execution_count": 6,
     "metadata": {},
     "output_type": "execute_result"
    }
   ],
   "source": [
    "B.full_traj()"
   ]
  },
  {
   "cell_type": "code",
   "execution_count": 7,
   "metadata": {},
   "outputs": [
    {
     "data": {
      "text/plain": [
       "3 3 3 "
      ]
     },
     "execution_count": 7,
     "metadata": {},
     "output_type": "execute_result"
    }
   ],
   "source": [
    "A"
   ]
  },
  {
   "cell_type": "code",
   "execution_count": 117,
   "metadata": {},
   "outputs": [
    {
     "data": {
      "text/plain": [
       "-> <- -> <- <- -> <- <- -> <- "
      ]
     },
     "execution_count": 117,
     "metadata": {},
     "output_type": "execute_result"
    }
   ],
   "source": [
    "B"
   ]
  },
  {
   "cell_type": "code",
   "execution_count": 96,
   "metadata": {},
   "outputs": [
    {
     "data": {
      "text/plain": [
       "[<-, ->, ->, <-, <-, ->, ->]"
      ]
     },
     "execution_count": 96,
     "metadata": {},
     "output_type": "execute_result"
    }
   ],
   "source": [
    "B.actions"
   ]
  },
  {
   "cell_type": "code",
   "execution_count": 2,
   "metadata": {},
   "outputs": [],
   "source": [
    "from pathlib import Path"
   ]
  },
  {
   "cell_type": "code",
   "execution_count": 9,
   "metadata": {},
   "outputs": [
    {
     "data": {
      "text/plain": [
       "'test/folder'"
      ]
     },
     "execution_count": 9,
     "metadata": {},
     "output_type": "execute_result"
    }
   ],
   "source": [
    "str(path)"
   ]
  },
  {
   "cell_type": "code",
   "execution_count": 7,
   "metadata": {},
   "outputs": [],
   "source": [
    "path = Path('test/folder')\n",
    "path.mkdir(exist_ok=True)"
   ]
  },
  {
   "cell_type": "code",
   "execution_count": 3,
   "metadata": {},
   "outputs": [
    {
     "data": {
      "text/plain": [
       "PosixPath('experiments')"
      ]
     },
     "execution_count": 3,
     "metadata": {},
     "output_type": "execute_result"
    }
   ],
   "source": [
    "path"
   ]
  },
  {
   "cell_type": "code",
   "execution_count": 10,
   "metadata": {},
   "outputs": [
    {
     "ename": "TypeError",
     "evalue": "unsupported operand type(s) for /: 'PosixPath' and 'NoneType'",
     "output_type": "error",
     "traceback": [
      "\u001b[0;31m---------------------------------------------------------------------------\u001b[0m",
      "\u001b[0;31mTypeError\u001b[0m                                 Traceback (most recent call last)",
      "\u001b[0;32m<ipython-input-10-6d5240979b56>\u001b[0m in \u001b[0;36m<module>\u001b[0;34m\u001b[0m\n\u001b[0;32m----> 1\u001b[0;31m \u001b[0mpath\u001b[0m \u001b[0;34m/\u001b[0m \u001b[0mPath\u001b[0m\u001b[0;34m(\u001b[0m\u001b[0mstr\u001b[0m\u001b[0;34m(\u001b[0m\u001b[0mfname\u001b[0m\u001b[0;34m)\u001b[0m\u001b[0;34m)\u001b[0m\u001b[0;34m.\u001b[0m\u001b[0mtouch\u001b[0m\u001b[0;34m(\u001b[0m\u001b[0;34m)\u001b[0m\u001b[0;34m\u001b[0m\u001b[0;34m\u001b[0m\u001b[0m\n\u001b[0m",
      "\u001b[0;31mTypeError\u001b[0m: unsupported operand type(s) for /: 'PosixPath' and 'NoneType'"
     ]
    }
   ],
   "source": [
    "path / Path(str(fname)).touch()"
   ]
  },
  {
   "cell_type": "code",
   "execution_count": 5,
   "metadata": {},
   "outputs": [],
   "source": [
    "import datetime\n",
    "fname = datetime.date.today()"
   ]
  },
  {
   "cell_type": "code",
   "execution_count": 8,
   "metadata": {},
   "outputs": [
    {
     "name": "stdout",
     "output_type": "stream",
     "text": [
      "2021-11-27\n"
     ]
    }
   ],
   "source": [
    "print(fname)"
   ]
  },
  {
   "cell_type": "code",
   "execution_count": 12,
   "metadata": {},
   "outputs": [],
   "source": [
    "def save(actrep, maxsteps, seed, score, iterations, trajectory):\n",
    "    time = datetime.datetime.now().strftime(\"%Y-%m-%d|%H:%M\")\n",
    "    with open(f\"experiments/{time}_actrep{actrep}_maxsteps{maxsteps}_seed{seed}.txt\", \"w\") as f:\n",
    "        f.write('Score: {score}\\nNumber of iterations: {iterations}\\nTrajectory: {trajectory}')"
   ]
  },
  {
   "cell_type": "code",
   "execution_count": 17,
   "metadata": {},
   "outputs": [
    {
     "data": {
      "text/plain": [
       "'2021-11-27|17:17'"
      ]
     },
     "execution_count": 17,
     "metadata": {},
     "output_type": "execute_result"
    }
   ],
   "source": [
    "datetime.datetime.now().strftime(\"%Y-%m-%d|%H:%M\")"
   ]
  },
  {
   "cell_type": "code",
   "execution_count": 2,
   "metadata": {},
   "outputs": [],
   "source": [
    "path = Path('experiments')"
   ]
  },
  {
   "cell_type": "code",
   "execution_count": 23,
   "metadata": {},
   "outputs": [],
   "source": [
    "# Create folder with format date_experimentname\n",
    "experiment_name = 'idk'\n",
    "date = datetime.datetime.now().strftime(\"%Y-%m-%d\")\n",
    "p = Path(f'experiments/{date}_{experiment_name}')\n",
    "p.mkdir()"
   ]
  },
  {
   "cell_type": "code",
   "execution_count": 28,
   "metadata": {},
   "outputs": [],
   "source": [
    "l = p / '2021-11-27_actrep0.0_maxsteps100_seed0_.txt'"
   ]
  },
  {
   "cell_type": "code",
   "execution_count": 29,
   "metadata": {},
   "outputs": [
    {
     "data": {
      "text/plain": [
       "PosixPath('experiments/2021-11-28_idk')"
      ]
     },
     "execution_count": 29,
     "metadata": {},
     "output_type": "execute_result"
    }
   ],
   "source": [
    "p\n"
   ]
  },
  {
   "cell_type": "code",
   "execution_count": 32,
   "metadata": {},
   "outputs": [],
   "source": [
    "condition = lambda x: x < 2000"
   ]
  },
  {
   "cell_type": "code",
   "execution_count": 33,
   "metadata": {},
   "outputs": [
    {
     "data": {
      "text/plain": [
       "True"
      ]
     },
     "execution_count": 33,
     "metadata": {},
     "output_type": "execute_result"
    }
   ],
   "source": [
    "k = 1200\n",
    "condition(k)"
   ]
  },
  {
   "cell_type": "code",
   "execution_count": 7,
   "metadata": {},
   "outputs": [
    {
     "data": {
      "text/plain": [
       "array([-3.])"
      ]
     },
     "execution_count": 7,
     "metadata": {},
     "output_type": "execute_result"
    }
   ],
   "source": [
    "np.linspace(-3, 3, 1)"
   ]
  },
  {
   "cell_type": "code",
   "execution_count": null,
   "metadata": {},
   "outputs": [],
   "source": [
    "np.l"
   ]
  },
  {
   "cell_type": "code",
   "execution_count": 475,
   "metadata": {},
   "outputs": [],
   "source": [
    "# 5 runs\n",
    "import numpy as np\n",
    "n = 100000\n",
    "noise = np.random.normal(0, 1, n)\n",
    "x = np.linspace(1, n, n)"
   ]
  },
  {
   "cell_type": "code",
   "execution_count": 476,
   "metadata": {},
   "outputs": [],
   "source": [
    "n_runs = 5\n",
    "ys = np.array([0.01*x*np.ones(n) + np.random.normal(0, 300, n) for _ in range(n_runs)])"
   ]
  },
  {
   "cell_type": "code",
   "execution_count": 477,
   "metadata": {},
   "outputs": [],
   "source": [
    "n_samples = 1000\n",
    "bootstraps = np.zeros((n_samples, n))\n",
    "for i in range(n_samples):\n",
    "    sample_idxs = np.random.randint(n_runs, size=n_runs)\n",
    "    sample = ys[sample_idxs]\n",
    "    bootstraps[i, :] = sample.mean(axis=0)\n",
    "stats = []\n",
    "for N in range(n):\n",
    "    bootstrap_samples = bootstraps[:, N]\n",
    "    lb = round(sorted(bootstrap_samples)[24], 2)\n",
    "    mean = round(sorted(bootstrap_samples)[499], 2)\n",
    "    ub = round(sorted(bootstrap_samples)[974], 2)\n",
    "    stats.append(Stat(lb, mean, ub))"
   ]
  },
  {
   "cell_type": "code",
   "execution_count": 478,
   "metadata": {},
   "outputs": [],
   "source": [
    "ys = np.array([stat.mean for stat in stats])\n",
    "errors = np.array([stat.mean - stat.lb for stat in stats])"
   ]
  },
  {
   "cell_type": "code",
   "execution_count": 479,
   "metadata": {},
   "outputs": [],
   "source": [
    "# https://stackoverflow.com/questions/5283649/plot-smooth-line-with-pyplot\n",
    "def smooth(scalars, weight):  # Weight between 0 and 1\n",
    "    last = scalars[0]  # First value in the plot (first timestep)\n",
    "    smoothed = []\n",
    "    for point in scalars:\n",
    "        smoothed_val = last * weight + (1 - weight) * point  # Calculate smoothed value\n",
    "        smoothed.append(smoothed_val)                        # Save it\n",
    "        last = smoothed_val                                  # Anchor the last smoothed value\n",
    "        \n",
    "    return smoothed\n"
   ]
  },
  {
   "cell_type": "code",
   "execution_count": 482,
   "metadata": {},
   "outputs": [
    {
     "data": {
      "text/plain": [
       "(0.0, 1000.0)"
      ]
     },
     "execution_count": 482,
     "metadata": {},
     "output_type": "execute_result"
    },
    {
     "data": {
      "image/png": "[encoded data removed]",
      "text/plain": [
       "<Figure size 432x288 with 1 Axes>"
      ]
     },
     "metadata": {
      "needs_background": "light"
     },
     "output_type": "display_data"
    }
   ],
   "source": [
    "import matplotlib.pyplot as plt\n",
    "plt.plot(x, smooth(ys, 0.999))\n",
    "plt.fill_between(x, smooth(ys, 0.999) - errors, smooth(ys, 0.999) + errors, alpha=0.1)\n",
    "ax = plt.gca()\n",
    "ax.set_ylim([0, 1000])"
   ]
  },
  {
   "cell_type": "code",
   "execution_count": 164,
   "metadata": {},
   "outputs": [],
   "source": [
    "from collections import namedtuple\n",
    "Stat = namedtuple('Stat', 'lb mean ub')"
   ]
  },
  {
   "cell_type": "code",
   "execution_count": 60,
   "metadata": {},
   "outputs": [
    {
     "data": {
      "text/plain": [
       "array([[15375.31789619, 15135.79778617, 14874.55065677, ...,\n",
       "        15128.33893681, 15380.44634175, 15616.36090954],\n",
       "       [15385.18691682, 15132.24872232, 14881.74835218, ...,\n",
       "        15130.90622932, 15375.43964857, 15613.39851431],\n",
       "       [15378.71934705, 15132.44511691, 14880.00215701, ...,\n",
       "        15128.7159006 , 15376.32496046, 15615.03043323],\n",
       "       ...,\n",
       "       [15379.12743476, 15133.39192571, 14879.01269859, ...,\n",
       "        15126.09196128, 15379.4461752 , 15612.10732324],\n",
       "       [15385.0878003 , 15132.45427374, 14878.23748958, ...,\n",
       "        15127.95202257, 15383.81557908, 15612.92058457],\n",
       "       [15378.4539942 , 15123.87032498, 14881.22628489, ...,\n",
       "        15131.13128861, 15381.66786964, 15625.57088395]])"
      ]
     },
     "execution_count": 60,
     "metadata": {},
     "output_type": "execute_result"
    }
   ],
   "source": [
    "bootstraps"
   ]
  },
  {
   "cell_type": "code",
   "execution_count": 61,
   "metadata": {},
   "outputs": [],
   "source": [
    "t0 = bootstraps[:, 0]"
   ]
  },
  {
   "cell_type": "code",
   "execution_count": 62,
   "metadata": {},
   "outputs": [
    {
     "data": {
      "text/plain": [
       "(15369.357530654746, 15378.620230532217, 15385.087800298332)"
      ]
     },
     "execution_count": 62,
     "metadata": {},
     "output_type": "execute_result"
    }
   ],
   "source": [
    "sorted(t0)[24], sorted(t0)[499], sorted(t0)[974]"
   ]
  },
  {
   "cell_type": "code",
   "execution_count": 13,
   "metadata": {},
   "outputs": [],
   "source": [
    "class Cell:\n",
    "    def __init__(self, score, length):\n",
    "        self.score, self.length = score, length\n",
    "        \n",
    "    def __eq__(self, other):\n",
    "        return self.score == other.score and self.length == other.length\n",
    "    \n",
    "    def __lt__(self, other):\n",
    "        return (-self.score, self.length) < (-other.score, other.length)\n",
    "    \n",
    "    def __repr__(self):\n",
    "        return f'Cell(score={self.score}, length={self.length})'"
   ]
  },
  {
   "cell_type": "code",
   "execution_count": 14,
   "metadata": {},
   "outputs": [],
   "source": [
    "cells = [Cell(10, 25), Cell(10, 8), Cell(7, 5)]"
   ]
  },
  {
   "cell_type": "code",
   "execution_count": 12,
   "metadata": {},
   "outputs": [
    {
     "data": {
      "text/plain": [
       "[Cell(score=10, length=8), Cell(score=10, length=25), Cell(score=7, length=5)]"
      ]
     },
     "execution_count": 12,
     "metadata": {},
     "output_type": "execute_result"
    }
   ],
   "source": [
    "sorted(cells, reverse=True)"
   ]
  },
  {
   "cell_type": "code",
   "execution_count": 17,
   "metadata": {},
   "outputs": [
    {
     "data": {
      "text/plain": [
       "Cell(score=7, length=5)"
      ]
     },
     "execution_count": 17,
     "metadata": {},
     "output_type": "execute_result"
    }
   ],
   "source": [
    "import numpy as np\n",
    "np.random.choice(cells)"
   ]
  },
  {
   "cell_type": "code",
   "execution_count": 15,
   "metadata": {},
   "outputs": [
    {
     "data": {
      "text/plain": [
       "[Cell(score=10, length=8), Cell(score=10, length=25), Cell(score=7, length=5)]"
      ]
     },
     "execution_count": 15,
     "metadata": {},
     "output_type": "execute_result"
    }
   ],
   "source": [
    "sorted(cells)\n"
   ]
  },
  {
   "cell_type": "code",
   "execution_count": 59,
   "metadata": {},
   "outputs": [
    {
     "data": {
      "text/plain": [
       "1"
      ]
     },
     "execution_count": 59,
     "metadata": {},
     "output_type": "execute_result"
    }
   ],
   "source": [
    "import numpy as np\n",
    "k = 20\n",
    "np.random.geometric(1/k)"
   ]
  },
  {
   "cell_type": "code",
   "execution_count": 2,
   "metadata": {},
   "outputs": [
    {
     "name": "stdout",
     "output_type": "stream",
     "text": [
      "Requirement already satisfied: p_tqdm in ./atari/lib/python3.8/site-packages (1.3.3)\n",
      "Requirement already satisfied: tqdm in ./atari/lib/python3.8/site-packages (from p_tqdm) (4.62.3)\n",
      "Requirement already satisfied: pathos in ./atari/lib/python3.8/site-packages (from p_tqdm) (0.2.8)\n",
      "Requirement already satisfied: six in ./atari/lib/python3.8/site-packages (from p_tqdm) (1.16.0)\n",
      "Requirement already satisfied: dill>=0.3.4 in ./atari/lib/python3.8/site-packages (from pathos->p_tqdm) (0.3.4)\n",
      "Requirement already satisfied: pox>=0.3.0 in ./atari/lib/python3.8/site-packages (from pathos->p_tqdm) (0.3.0)\n",
      "Requirement already satisfied: ppft>=1.6.6.4 in ./atari/lib/python3.8/site-packages (from pathos->p_tqdm) (1.6.6.4)\n",
      "Requirement already satisfied: multiprocess>=0.70.12 in ./atari/lib/python3.8/site-packages (from pathos->p_tqdm) (0.70.12.2)\n"
     ]
    }
   ],
   "source": [
    "!pip install p_tqdm"
   ]
  },
  {
   "cell_type": "code",
   "execution_count": 1,
   "metadata": {},
   "outputs": [
    {
     "ename": "ModuleNotFoundError",
     "evalue": "No module named 'p_tqdm'",
     "output_type": "error",
     "traceback": [
      "\u001b[0;31m---------------------------------------------------------------------------\u001b[0m",
      "\u001b[0;31mModuleNotFoundError\u001b[0m                       Traceback (most recent call last)",
      "\u001b[0;32m<ipython-input-1-cf226e3066e6>\u001b[0m in \u001b[0;36m<module>\u001b[0;34m\u001b[0m\n\u001b[0;32m----> 1\u001b[0;31m \u001b[0;32mfrom\u001b[0m \u001b[0mp_tqdm\u001b[0m \u001b[0;32mimport\u001b[0m \u001b[0mp_map\u001b[0m\u001b[0;34m\u001b[0m\u001b[0;34m\u001b[0m\u001b[0m\n\u001b[0m",
      "\u001b[0;31mModuleNotFoundError\u001b[0m: No module named 'p_tqdm'"
     ]
    }
   ],
   "source": [
    "from p_tqdm import p_map\n"
   ]
  },
  {
   "cell_type": "code",
   "execution_count": 4,
   "metadata": {},
   "outputs": [
    {
     "ename": "ModuleNotFoundError",
     "evalue": "No module named 'p_tqdm'",
     "output_type": "error",
     "traceback": [
      "\u001b[0;31m---------------------------------------------------------------------------\u001b[0m",
      "\u001b[0;31mModuleNotFoundError\u001b[0m                       Traceback (most recent call last)",
      "\u001b[0;32m<ipython-input-4-1daf07bdb8d4>\u001b[0m in \u001b[0;36m<module>\u001b[0;34m\u001b[0m\n\u001b[0;32m----> 1\u001b[0;31m \u001b[0;32mfrom\u001b[0m \u001b[0mp_tqdm\u001b[0m \u001b[0;32mimport\u001b[0m \u001b[0mp_map\u001b[0m\u001b[0;34m\u001b[0m\u001b[0;34m\u001b[0m\u001b[0m\n\u001b[0m\u001b[1;32m      2\u001b[0m \u001b[0;32mimport\u001b[0m \u001b[0mtime\u001b[0m\u001b[0;34m\u001b[0m\u001b[0;34m\u001b[0m\u001b[0m\n\u001b[1;32m      3\u001b[0m \u001b[0;34m\u001b[0m\u001b[0m\n\u001b[1;32m      4\u001b[0m \u001b[0;32mdef\u001b[0m \u001b[0m_foo\u001b[0m\u001b[0;34m(\u001b[0m\u001b[0mmy_number\u001b[0m\u001b[0;34m)\u001b[0m\u001b[0;34m:\u001b[0m\u001b[0;34m\u001b[0m\u001b[0;34m\u001b[0m\u001b[0m\n\u001b[1;32m      5\u001b[0m    \u001b[0msquare\u001b[0m \u001b[0;34m=\u001b[0m \u001b[0mmy_number\u001b[0m \u001b[0;34m*\u001b[0m \u001b[0mmy_number\u001b[0m\u001b[0;34m\u001b[0m\u001b[0;34m\u001b[0m\u001b[0m\n",
      "\u001b[0;31mModuleNotFoundError\u001b[0m: No module named 'p_tqdm'"
     ]
    }
   ],
   "source": [
    "from p_tqdm import p_map\n",
    "import time\n",
    "\n",
    "def _foo(my_number):\n",
    "   square = my_number * my_number\n",
    "   time.sleep(1)\n",
    "   return square \n",
    "\n",
    "if __name__ == '__main__':\n",
    "   r = p_map(_foo, list(range(0, 30)))"
   ]
  }
 ],
 "metadata": {
  "kernelspec": {
   "display_name": "Python 3",
   "language": "python",
   "name": "python3"
  },
  "language_info": {
   "codemirror_mode": {
    "name": "ipython",
    "version": 3
   },
   "file_extension": ".py",
   "mimetype": "text/x-python",
   "name": "python",
   "nbconvert_exporter": "python",
   "pygments_lexer": "ipython3",
   "version": "3.8.3"
  }
 },
 "nbformat": 4,
 "nbformat_minor": 4
}
