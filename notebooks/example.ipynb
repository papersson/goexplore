{
 "cells": [
  {
   "cell_type": "code",
   "execution_count": 1,
   "metadata": {},
   "outputs": [
    {
     "name": "stderr",
     "output_type": "stream",
     "text": [
      "A.L.E: Arcade Learning Environment (version +978d2ce)\n",
      "[Powered by Stella]\n"
     ]
    }
   ],
   "source": [
    "# Ryanrudes' implementation adjusted for pong: https://github.com/ryanrudes/minimal_goexplore\n",
    "from collections import defaultdict\n",
    "from time import sleep\n",
    "import numpy as np\n",
    "import cv2\n",
    "import sys\n",
    "import gym\n",
    "\n",
    "def cellfn(frame):\n",
    "    cell = cv2.cvtColor(frame, cv2.COLOR_RGB2GRAY)\n",
    "    cell = cv2.resize(cell, (11, 8), interpolation = cv2.INTER_AREA)\n",
    "    cell = cell // 32\n",
    "    return cell\n",
    "\n",
    "def hashfn(cell):\n",
    "    return hash(cell.tobytes())\n",
    "\n",
    "class Weights:\n",
    "    times_chosen = 0.1\n",
    "    times_chosen_since_new = 0\n",
    "    times_seen = 0.3\n",
    "\n",
    "class Powers:\n",
    "    times_chosen = 0.5\n",
    "    times_chosen_since_new = 0.5\n",
    "    times_seen = 0.5\n",
    "\n",
    "class Cell(object):\n",
    "    def __init__(self):\n",
    "        self.times_chosen = 0\n",
    "        self.times_chosen_since_new = 0\n",
    "        self.times_seen = 0\n",
    "\n",
    "    def __setattr__(self, key, value):\n",
    "        object.__setattr__(self, key, value)\n",
    "        if key != 'score' and hasattr(self, 'times_seen'):\n",
    "            self.score = self.cellscore()\n",
    "\n",
    "    def cntscore(self, a):\n",
    "        w = getattr(Weights, a)\n",
    "        p = getattr(Powers, a)\n",
    "        v = getattr(self, a)\n",
    "        return w / (v + e1) ** p + e2\n",
    "\n",
    "    def cellscore(self):\n",
    "        return self.cntscore('times_chosen')           +\\\n",
    "               self.cntscore('times_chosen_since_new') +\\\n",
    "               self.cntscore('times_seen')             +\\\n",
    "               1\n",
    "\n",
    "    def visit(self):\n",
    "        self.times_seen += 1\n",
    "        return self.times_seen == 1\n",
    "\n",
    "    def choose(self):\n",
    "        self.times_chosen += 1\n",
    "        self.times_chosen_since_new += 1\n",
    "        return self.ram, self.reward, self.trajectory\n",
    "\n",
    "archive = defaultdict(lambda: Cell())\n",
    "highscore = 0\n",
    "frames = 0\n",
    "\n",
    "e1 = 0.001\n",
    "e2 = 0.00001\n",
    "\n",
    "env = gym.make(\"PongDeterministic-v4\")\n",
    "frame = env.reset()\n",
    "score = 0\n",
    "action = 0\n",
    "trajectory = []\n",
    "iterations = 0\n",
    "\n",
    "\n"
   ]
  },
  {
   "cell_type": "code",
   "execution_count": 2,
   "metadata": {},
   "outputs": [],
   "source": [
    "s = env.reset()\n",
    "import matplotlib.pyplot as plt"
   ]
  },
  {
   "cell_type": "code",
   "execution_count": 3,
   "metadata": {},
   "outputs": [
    {
     "data": {
      "text/plain": [
       "<matplotlib.image.AxesImage at 0x7f8652eb3e20>"
      ]
     },
     "execution_count": 3,
     "metadata": {},
     "output_type": "execute_result"
    },
    {
     "data": {
      "image/png": "[encoded data removed]",
      "text/plain": [
       "<Figure size 432x288 with 1 Axes>"
      ]
     },
     "metadata": {
      "needs_background": "light"
     },
     "output_type": "display_data"
    }
   ],
   "source": [
    "plt.imshow(cellfn(s))"
   ]
  },
  {
   "cell_type": "code",
   "execution_count": 4,
   "metadata": {},
   "outputs": [
    {
     "data": {
      "text/plain": [
       "<matplotlib.image.AxesImage at 0x7f8650dc3100>"
      ]
     },
     "execution_count": 4,
     "metadata": {},
     "output_type": "execute_result"
    },
    {
     "data": {
      "image/png": "[encoded data removed]",
      "text/plain": [
       "<Figure size 432x288 with 1 Axes>"
      ]
     },
     "metadata": {
      "needs_background": "light"
     },
     "output_type": "display_data"
    }
   ],
   "source": [
    "plt.imshow(s)"
   ]
  },
  {
   "cell_type": "code",
   "execution_count": 5,
   "metadata": {},
   "outputs": [
    {
     "name": "stderr",
     "output_type": "stream",
     "text": [
      "  0%|                                                                                                                                                                                                                        | 0/50000 [00:00<?, ?it/s]/home/elgutto/Documents/masters/goexplore/atari/lib/python3.8/site-packages/gym/envs/atari/environment.py:353: UserWarning: \u001b[33mWARN: `clone_full_state()` is deprecated and will be removed in a future release of `ale-py`. Please use `clone_state(include_rng=True)` which is equivalent to `clone_full_state`. \u001b[0m\n",
      "  logger.warn(\n",
      "/home/elgutto/Documents/masters/goexplore/atari/lib/python3.8/site-packages/gym/envs/atari/environment.py:361: UserWarning: \u001b[33mWARN: restore_full_state() is deprecated and will be removed in a future release of `ale-py`. Please use `restore_state(state)` which will restore the state regardless of being a full or partial state. \u001b[0m\n",
      "  logger.warn(\n",
      " 10%|████████████████████▌                                                                                                                                                                                        | 5003/50000 [05:08<46:59, 15.96it/s]"
     ]
    },
    {
     "name": "stdout",
     "output_type": "stream",
     "text": [
      "Iterations: 5000, Cells: 72, Frames: 490255, Max Reward: 19\n"
     ]
    },
    {
     "name": "stderr",
     "output_type": "stream",
     "text": [
      " 20%|████████████████████████████████████████▊                                                                                                                                                                   | 10003/50000 [09:10<28:34, 23.32it/s]"
     ]
    },
    {
     "name": "stdout",
     "output_type": "stream",
     "text": [
      "Iterations: 10000, Cells: 72, Frames: 865119, Max Reward: 19\n"
     ]
    },
    {
     "name": "stderr",
     "output_type": "stream",
     "text": [
      " 30%|█████████████████████████████████████████████████████████████▏                                                                                                                                              | 15007/50000 [12:29<19:29, 29.93it/s]"
     ]
    },
    {
     "name": "stdout",
     "output_type": "stream",
     "text": [
      "Iterations: 15000, Cells: 72, Frames: 1162612, Max Reward: 19\n"
     ]
    },
    {
     "name": "stderr",
     "output_type": "stream",
     "text": [
      " 40%|█████████████████████████████████████████████████████████████████████████████████▌                                                                                                                          | 20004/50000 [15:37<17:02, 29.35it/s]"
     ]
    },
    {
     "name": "stdout",
     "output_type": "stream",
     "text": [
      "Iterations: 20000, Cells: 72, Frames: 1443950, Max Reward: 19\n"
     ]
    },
    {
     "name": "stderr",
     "output_type": "stream",
     "text": [
      " 50%|██████████████████████████████████████████████████████████████████████████████████████████████████████                                                                                                      | 25007/50000 [18:41<11:38, 35.76it/s]"
     ]
    },
    {
     "name": "stdout",
     "output_type": "stream",
     "text": [
      "Iterations: 25000, Cells: 72, Frames: 1716825, Max Reward: 19\n"
     ]
    },
    {
     "name": "stderr",
     "output_type": "stream",
     "text": [
      " 60%|██████████████████████████████████████████████████████████████████████████████████████████████████████████████████████████▍                                                                                 | 30003/50000 [21:48<11:00, 30.27it/s]"
     ]
    },
    {
     "name": "stdout",
     "output_type": "stream",
     "text": [
      "Iterations: 30000, Cells: 72, Frames: 1996443, Max Reward: 19\n"
     ]
    },
    {
     "name": "stderr",
     "output_type": "stream",
     "text": [
      " 70%|██████████████████████████████████████████████████████████████████████████████████████████████████████████████████████████████████████████████▊                                                             | 35003/50000 [24:53<09:28, 26.40it/s]"
     ]
    },
    {
     "name": "stdout",
     "output_type": "stream",
     "text": [
      "Iterations: 35000, Cells: 72, Frames: 2272056, Max Reward: 19\n"
     ]
    },
    {
     "name": "stderr",
     "output_type": "stream",
     "text": [
      " 80%|███████████████████████████████████████████████████████████████████████████████████████████████████████████████████████████████████████████████████████████████████▏                                        | 40004/50000 [27:57<05:25, 30.74it/s]"
     ]
    },
    {
     "name": "stdout",
     "output_type": "stream",
     "text": [
      "Iterations: 40000, Cells: 72, Frames: 2544581, Max Reward: 19\n"
     ]
    },
    {
     "name": "stderr",
     "output_type": "stream",
     "text": [
      " 90%|███████████████████████████████████████████████████████████████████████████████████████████████████████████████████████████████████████████████████████████████████████████████████████▌                    | 45006/50000 [31:01<02:07, 39.24it/s]"
     ]
    },
    {
     "name": "stdout",
     "output_type": "stream",
     "text": [
      "Iterations: 45000, Cells: 72, Frames: 2817664, Max Reward: 19\n"
     ]
    },
    {
     "name": "stderr",
     "output_type": "stream",
     "text": [
      "100%|████████████████████████████████████████████████████████████████████████████████████████████████████████████████████████████████████████████████████████████████████████████████████████████████████████████| 50000/50000 [34:04<00:00, 24.45it/s]"
     ]
    },
    {
     "name": "stdout",
     "output_type": "stream",
     "text": [
      "Iterations: 50000, Cells: 72, Frames: 3089075, Max Reward: 19\n"
     ]
    },
    {
     "name": "stderr",
     "output_type": "stream",
     "text": [
      "\n"
     ]
    }
   ],
   "source": [
    "from tqdm import tqdm\n",
    "for _ in tqdm(range(50000)):\n",
    "    found_new_cell = False\n",
    "\n",
    "    for i in range(100):\n",
    "        if np.random.random() > 0.95:\n",
    "            action = env.action_space.sample()\n",
    "\n",
    "        frame, reward, terminal, info = env.step(action)\n",
    "        #print(info)\n",
    "        #if iterations % 100 == 0:\n",
    "        #    env.render()\n",
    "        score += reward\n",
    "        #terminal |= info['lives'] < 6\n",
    "\n",
    "        trajectory.append(action)\n",
    "        frames += 1\n",
    "\n",
    "        if score > highscore:\n",
    "            highscore = score\n",
    "\n",
    "        if terminal:\n",
    "            break\n",
    "        else:\n",
    "            cell = cellfn(frame)\n",
    "            cellhash = hashfn(cell)\n",
    "            cell = archive[cellhash]\n",
    "            first_visit = cell.visit()\n",
    "            if first_visit or score > cell.reward or score == cell.reward and len(trajectory) < len(cell.trajectory):\n",
    "                cell.ram = env.env.clone_full_state()\n",
    "                cell.reward = score\n",
    "                cell.trajectory = trajectory.copy()\n",
    "                cell.times_chosen = 0\n",
    "                cell.times_chosen_since_new = 0\n",
    "                found_new_cell = True\n",
    "\n",
    "    if found_new_cell and iterations > 0:\n",
    "        restore_cell.times_chosen_since_new = 0\n",
    "\n",
    "    iterations += 1\n",
    "    scores = np.array([cell.score for cell in archive.values()])\n",
    "    hashes = [*archive]\n",
    "    probs = scores / scores.sum()\n",
    "    restore = np.random.choice(hashes, p = probs)\n",
    "    restore_cell = archive[restore]\n",
    "    ram, score, trajectory = restore_cell.choose()\n",
    "    env.reset()\n",
    "    env.env.restore_full_state(ram)\n",
    "\n",
    "    if iterations % 5000 == 0:\n",
    "        print(\"Iterations: %d, Cells: %d, Frames: %d, Max Reward: %d\" % (iterations, len(archive), frames, highscore))"
   ]
  },
  {
   "cell_type": "code",
   "execution_count": null,
   "metadata": {},
   "outputs": [],
   "source": []
  },
  {
   "cell_type": "code",
   "execution_count": 7,
   "metadata": {},
   "outputs": [],
   "source": [
    "c = list(archive.values())[1]"
   ]
  },
  {
   "cell_type": "code",
   "execution_count": 8,
   "metadata": {},
   "outputs": [
    {
     "data": {
      "text/plain": [
       "<__main__.Cell at 0x7f1f0cd36af0>"
      ]
     },
     "execution_count": 8,
     "metadata": {},
     "output_type": "execute_result"
    }
   ],
   "source": [
    "c"
   ]
  },
  {
   "cell_type": "code",
   "execution_count": 12,
   "metadata": {},
   "outputs": [],
   "source": [
    "\n",
    "from gym.envs.classic_control import rendering\n",
    "def repeat_upsample(rgb_array, k=1, l=1, err=[]):\n",
    "    # repeat kinda crashes if k/l are zero\n",
    "    if k <= 0 or l <= 0: \n",
    "        if not err: \n",
    "            err.append('logged')\n",
    "        return rgb_array\n",
    "\n",
    "    # repeat the pixels k times along the y axis and l times along the x axis\n",
    "    # if the input image is of shape (m,n,3), the output image will be of shape (k*m, l*n, 3)\n",
    "\n",
    "    return np.repeat(np.repeat(rgb_array, k, axis=0), l, axis=1)\n",
    "\n",
    "viewer = rendering.SimpleImageViewer()"
   ]
  },
  {
   "cell_type": "code",
   "execution_count": 13,
   "metadata": {},
   "outputs": [],
   "source": [
    "replay(c.trajectory)"
   ]
  },
  {
   "cell_type": "code",
   "execution_count": 10,
   "metadata": {},
   "outputs": [],
   "source": [
    "def replay(trajectory):\n",
    "    env.reset()\n",
    "    done = False\n",
    "    for action in trajectory:\n",
    "        _, _, done, _ = env.step(action)\n",
    "        \n",
    "        rgb = env.render('rgb_array')\n",
    "        img = repeat_upsample(rgb, 4, 4)\n",
    "        viewer.imshow(img)\n",
    "        \n",
    "        if done: break\n",
    "        \n",
    "    env.close()"
   ]
  },
  {
   "cell_type": "code",
   "execution_count": 14,
   "metadata": {},
   "outputs": [
    {
     "data": {
      "text/plain": [
       "5756"
      ]
     },
     "execution_count": 14,
     "metadata": {},
     "output_type": "execute_result"
    }
   ],
   "source": [
    "len(c.trajectory)"
   ]
  },
  {
   "cell_type": "code",
   "execution_count": 6,
   "metadata": {},
   "outputs": [
    {
     "data": {
      "text/plain": [
       "18.0"
      ]
     },
     "execution_count": 6,
     "metadata": {},
     "output_type": "execute_result"
    }
   ],
   "source": [
    "[cell.reward for cell in archive.values()][1]"
   ]
  }
 ],
 "metadata": {
  "kernelspec": {
   "display_name": "Atari",
   "language": "python",
   "name": "atari"
  },
  "language_info": {
   "codemirror_mode": {
    "name": "ipython",
    "version": 3
   },
   "file_extension": ".py",
   "mimetype": "text/x-python",
   "name": "python",
   "nbconvert_exporter": "python",
   "pygments_lexer": "ipython3",
   "version": "3.8.3"
  }
 },
 "nbformat": 4,
 "nbformat_minor": 4
}
