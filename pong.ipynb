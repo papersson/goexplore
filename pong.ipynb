{
 "cells": [
  {
   "cell_type": "code",
   "execution_count": 1,
   "metadata": {},
   "outputs": [],
   "source": [
    "import random\n",
    "import sys\n",
    "sys.path.append('/home/elgutto/Documents/masters/atari/atari/lib/python3.8/site-packages')\n",
    "import gym\n",
    "import numpy as np\n",
    "import matplotlib.pyplot as plt\n",
    "from scipy import ndimage\n",
    "from tqdm import tqdm\n",
    "from copy import deepcopy\n",
    "import datetime\n",
    "from pathlib import Path\n",
    "import time\n",
    "from datetime import timedelta\n",
    "import json\n",
    "from collections import namedtuple\n",
    "import cv2"
   ]
  },
  {
   "cell_type": "code",
   "execution_count": 2,
   "metadata": {},
   "outputs": [],
   "source": [
    "class RandomAgent:\n",
    "    def __init__(self, action_space):\n",
    "        self.action_space = action_space\n",
    "        \n",
    "    def act(self):\n",
    "        return random.choice(self.action_space)\n",
    "\n",
    "# From https://github.com/uber-research/go-explore/blob/240056852514ffc39f62d32ae7590a39fd1814b9/policy_based/goexplore_py/explorers.py#L26\n",
    "# Repeats actions with 95% probability\n",
    "# TODO: is it equivalent to sticky actions?\n",
    "class ActionRepetitionAgent:\n",
    "    def __init__(self, action_space, mean_repeat=20):\n",
    "        self.action_space = action_space\n",
    "        self.mean_repeat = mean_repeat\n",
    "        self.action = 0 # noop\n",
    "        self.remaining = 0\n",
    "        \n",
    "    def act(self):\n",
    "        if self.remaining <= 0:\n",
    "            self.remaining = np.random.geometric(1 / self.mean_repeat)\n",
    "            self.action = random.choice(self.action_space)\n",
    "        self.remaining -= 1\n",
    "        return self.action\n",
    "            "
   ]
  },
  {
   "cell_type": "code",
   "execution_count": 3,
   "metadata": {},
   "outputs": [],
   "source": [
    "# https://gist.github.com/mttk/74dc6eaaea83b9f06c2cc99584d45f96\n",
    "# Larger rendering video\n",
    "from gym.envs.classic_control import rendering\n",
    "def repeat_upsample(rgb_array, k=1, l=1, err=[]):\n",
    "    # repeat kinda crashes if k/l are zero\n",
    "    if k <= 0 or l <= 0: \n",
    "        if not err: \n",
    "            err.append('logged')\n",
    "        return rgb_array\n",
    "\n",
    "    # repeat the pixels k times along the y axis and l times along the x axis\n",
    "    # if the input image is of shape (m,n,3), the output image will be of shape (k*m, l*n, 3)\n",
    "\n",
    "    return np.repeat(np.repeat(rgb_array, k, axis=0), l, axis=1)\n",
    "\n",
    "viewer = rendering.SimpleImageViewer()"
   ]
  },
  {
   "cell_type": "code",
   "execution_count": 4,
   "metadata": {},
   "outputs": [],
   "source": [
    "class Cell:\n",
    "    def __init__(self, simulator_state, actions_taken, score):\n",
    "        self.visits = 0\n",
    "        self.done = False\n",
    "        self.update(simulator_state, actions_taken, score)\n",
    "        \n",
    "    def update(self, simulator_state, actions_taken, score):\n",
    "        self.simulator_state = simulator_state\n",
    "        self.actions_taken = actions_taken\n",
    "        self.score = score\n",
    "    \n",
    "    def increment_visits(self):\n",
    "        self.visits += 1\n",
    "        \n",
    "    def restore_state(self, env):\n",
    "        env.unwrapped.restore_state(self.simulator_state)\n",
    "        \n",
    "    def history(self):\n",
    "        return deepcopy(self.actions_taken), deepcopy(self.score)\n",
    "    \n",
    "    def is_worse(self, score, actions_taken_length):\n",
    "        return ((score > self.score) \n",
    "                or (score == self.score and actions_taken_length < len(self.actions_taken)))\n",
    "    \n",
    "    def set_done(self):\n",
    "        self.done = True\n",
    "    \n",
    "    def __repr__(self):\n",
    "        return f'Cell(score={self.score}, traj_len={len(self.actions_taken)}, visits={self.visits}, done={self.done})'\n",
    "    \n",
    "    # Make sortable\n",
    "    def __eq__(self, other):\n",
    "        return self.score == other.score and self.lenght == other.length\n",
    "    \n",
    "    def __lt__(self, other):\n",
    "        return (-self.score, len(self.actions_taken)) < (-other.score, len(other.actions_taken))\n",
    "    \n",
    "def cell_repr(img):\n",
    "    # Crop and resize\n",
    "    img = img[34:194:2, ::2]\n",
    "    #img = img[34:194, :]\n",
    "\n",
    "    # Convert to greyscale\n",
    "    #img = cv2.cvtColor(img, cv2.COLOR_RGB2GRAY)\n",
    "    img = img.mean(axis=2)\n",
    "\n",
    "    # Shrink\n",
    "    # https://github.com/uber-research/go-explore/blob/240056852514ffc39f62d32ae7590a39fd1814b9/robustified/goexplore_py/utils.py#L67\n",
    "    #img = cv2.resize(img, (14, 14), interpolation=cv2.INTER_AREA)\n",
    "    img = ndimage.interpolation.zoom(img, 0.1)\n",
    "    \n",
    "    # Binarize\n",
    "    img = np.round(img, 2)\n",
    "    threshold = 77.7\n",
    "    img[img < threshold] = 0\n",
    "    img[img >= threshold] = 1\n",
    "    \n",
    "    # Reduce pixel depth\n",
    "    #img = color_quantize(img, 10)\n",
    "\n",
    "    return tuple(img.flatten())\n",
    "\n",
    "def color_quantize(img, n_colors):\n",
    "    bits = np.log2(n_colors)\n",
    "    diff = 8 - bits # Assumes 2^8 = 256 original pixel depth\n",
    "    K = 2**diff\n",
    "    \n",
    "    img = K * (img // K)\n",
    "    return img"
   ]
  },
  {
   "cell_type": "code",
   "execution_count": 5,
   "metadata": {},
   "outputs": [],
   "source": [
    "def explore(env, agent, archive, cell, stickyness, maxsteps, n_iterations, n_frames, highscore, visualize=False):\n",
    "    state = env.reset()\n",
    "    cell.restore_state(env)\n",
    "    actions_taken, score = cell.history()\n",
    "    \n",
    "    done = False\n",
    "    n_steps = 0\n",
    "    seen_cells = set() # Track cells seen during the episode\n",
    "    \n",
    "    action = agent.act()\n",
    "    while (not done and n_steps < maxsteps):\n",
    "        # Interact\n",
    "        if random.random() > stickyness:\n",
    "            action = agent.act()\n",
    "        \n",
    "        state, reward, done, _ = env.step(action)\n",
    "        actions_taken.append(action)\n",
    "        \n",
    "        score += reward\n",
    "        if score > highscore:\n",
    "            highscore = score\n",
    "            print(f'New highscore: {highscore}')\n",
    "        \n",
    "        # Update or add cell to archive\n",
    "        cell_representation = cell_repr(state)\n",
    "        cell = _update_or_create_cell(archive, cell_representation, env, score, deepcopy(actions_taken))\n",
    "        \n",
    "        # Increment visit count if cell not seen during the episode\n",
    "        if cell_representation not in seen_cells:\n",
    "            seen_cells.add(cell_representation)\n",
    "            cell.increment_visits()\n",
    "        \n",
    "        n_steps += 1\n",
    "        n_frames += 1\n",
    "        if done: \n",
    "            cell.set_done()\n",
    "            break\n",
    "    \n",
    "    n_iterations += 1\n",
    "    return highscore, n_frames, n_iterations\n",
    "\n",
    "def _update_or_create_cell(archive, cell_representation, env, score, actions_taken):\n",
    "    if cell_representation in archive:\n",
    "        cell = archive[cell_representation]\n",
    "        if cell.is_worse(score, len(actions_taken)):\n",
    "            simulator_state = env.unwrapped.clone_state(include_rng=True)\n",
    "            cell.update(simulator_state, actions_taken, score)\n",
    "    else:\n",
    "        simulator_state = env.unwrapped.clone_state(include_rng=True)\n",
    "        cell = Cell(simulator_state, actions_taken, score)\n",
    "        archive[cell_representation] = cell\n",
    "    return cell"
   ]
  },
  {
   "cell_type": "code",
   "execution_count": 6,
   "metadata": {},
   "outputs": [
    {
     "name": "stderr",
     "output_type": "stream",
     "text": [
      "Error initializing plugin EntryPoint(name='libsecret', value='keyring.backends.libsecret', group='keyring.backends').\n",
      "Traceback (most recent call last):\n",
      "  File \"/home/elgutto/anaconda3/lib/python3.8/site-packages/keyring/backend.py\", line 203, in _load_plugins\n",
      "    init_func = ep.load()\n",
      "  File \"/home/elgutto/anaconda3/lib/python3.8/importlib/metadata.py\", line 77, in load\n",
      "    module = import_module(match.group('module'))\n",
      "  File \"/home/elgutto/anaconda3/lib/python3.8/importlib/__init__.py\", line 127, in import_module\n",
      "    return _bootstrap._gcd_import(name[level:], package, level)\n",
      "  File \"<frozen importlib._bootstrap>\", line 1014, in _gcd_import\n",
      "  File \"<frozen importlib._bootstrap>\", line 991, in _find_and_load\n",
      "  File \"<frozen importlib._bootstrap>\", line 973, in _find_and_load_unlocked\n",
      "ModuleNotFoundError: No module named 'keyring.backends.libsecret'\n",
      "Error initializing plugin EntryPoint(name='macOS', value='keyring.backends.macOS', group='keyring.backends').\n",
      "Traceback (most recent call last):\n",
      "  File \"/home/elgutto/anaconda3/lib/python3.8/site-packages/keyring/backend.py\", line 203, in _load_plugins\n",
      "    init_func = ep.load()\n",
      "  File \"/home/elgutto/anaconda3/lib/python3.8/importlib/metadata.py\", line 77, in load\n",
      "    module = import_module(match.group('module'))\n",
      "  File \"/home/elgutto/anaconda3/lib/python3.8/importlib/__init__.py\", line 127, in import_module\n",
      "    return _bootstrap._gcd_import(name[level:], package, level)\n",
      "  File \"<frozen importlib._bootstrap>\", line 1014, in _gcd_import\n",
      "  File \"<frozen importlib._bootstrap>\", line 991, in _find_and_load\n",
      "  File \"<frozen importlib._bootstrap>\", line 973, in _find_and_load_unlocked\n",
      "ModuleNotFoundError: No module named 'keyring.backends.macOS'\n"
     ]
    }
   ],
   "source": [
    "Experience = namedtuple('Experience', 'state action reward done')\n",
    "\n",
    "from knockknock import email_sender\n",
    "@email_sender(recipient_emails=['goexploremsc@gmail.com'])\n",
    "def run_experiment(agent, params, below_threshold, path):\n",
    "    stickyness, max_steps, seed, *comment = params.values()\n",
    "    \n",
    "    start = time.time()\n",
    "    np.random.seed(seed)\n",
    "    random.seed(seed)\n",
    "    env = gym.make('PongDeterministic-v4')\n",
    "    env.seed(seed)\n",
    "    env.action_space.seed(seed)\n",
    "    \n",
    "    #action_space = [0, 2, 3] # noop, up, down\n",
    "    #agent = RandomAgent(action_space)\n",
    "\n",
    "    # Initialize state\n",
    "    start_state = env.reset()\n",
    "\n",
    "    # Create initial cell\n",
    "    simulator_state = env.unwrapped.clone_state(include_rng=True)\n",
    "    actions_taken = []\n",
    "    score = 0.0\n",
    "    cell = Cell(simulator_state, actions_taken, score)\n",
    "    cell.increment_visits()\n",
    "\n",
    "    # Create archive and add initial cell\n",
    "    archive = {}\n",
    "    cell_representation = cell_repr(start_state)\n",
    "    archive[cell_representation] = cell\n",
    "\n",
    "    # Explore until step threshold reached\n",
    "    highscore, n_frames, n_iterations = 0, 0, 0\n",
    "    logs = {}\n",
    "    scores = []\n",
    "    n_cells = []\n",
    "    for _ in tqdm(while_generator(below_threshold(n_frames))):\n",
    "        if not below_threshold(n_frames):\n",
    "            break\n",
    "        \n",
    "        visits = [cell.visits for cell in archive.values()]\n",
    "        #weights = [1 / np.log(c.visits + 1) for c in archive.values()]\n",
    "        #probs = [w / sum(weights) for w in weights]\n",
    "        rev_counts = [max(visits) + 1 - v for v in visits]\n",
    "        probs = [v / sum(rev_counts) for v in rev_counts]\n",
    "        cell = np.random.choice(list(archive.values()), 1, p=probs)[0]\n",
    "        \n",
    "        highscore, n_frames, n_iterations = explore(env, agent, archive, cell, stickyness, max_steps, n_iterations, n_frames, highscore)\n",
    "        \n",
    "        scores.append(highscore)\n",
    "        n_cells.append(len(archive))\n",
    "        \n",
    "        if n_frames % 500000 == 0:\n",
    "            print(f'Iterations: {n_iterations}\\tFrames: {n_frames}\\tScore: {highscore}\\t Cells: {len(archive)}')\n",
    "            \n",
    "    # Extract cell that reached terminal state with highest score and smallest trajectory\n",
    "    cells = list(archive.values())\n",
    "    solved_cells = [cell for cell in cells if cell.done is True]\n",
    "    best_cell = sorted(solved_cells)[0] if solved_cells else sorted(cells)[0]\n",
    "    \n",
    "    # Save logs to json file\n",
    "    elapsed = (time.time() - start)\n",
    "    logs['time'] = str(timedelta(seconds=elapsed))\n",
    "    logs['n_frames'] = n_frames\n",
    "    logs['n_iterations'] = n_iterations\n",
    "    logs['highscore'] = highscore\n",
    "    logs['actions_taken'] = best_cell.actions_taken\n",
    "    logs['scores'] = scores\n",
    "    logs['n_cells'] = n_cells\n",
    "    save(logs, path, params)\n",
    "    \n",
    "    print(f'Highscore: {highscore}')\n",
    "    return highscore\n",
    "    \n",
    "# https://stackoverflow.com/questions/45808140/using-tqdm-progress-bar-in-a-while-loop\n",
    "def while_generator(condition):\n",
    "    while condition:\n",
    "        yield\n",
    "        \n",
    "def save(logs, path, params):\n",
    "    file_name = ''\n",
    "    for name, value in params.items():\n",
    "        file_name += f'{name}{value}_'\n",
    "    file_name += '.json'\n",
    "    file_path = path / file_name\n",
    "    with file_path.open('w', encoding='utf-8') as fp:\n",
    "        json.dump(logs, fp, indent=4)"
   ]
  },
  {
   "cell_type": "code",
   "execution_count": 7,
   "metadata": {},
   "outputs": [],
   "source": [
    "def run_experiments(experiment_name, seeds, stickyness_grid, max_steps_grid, below_threshold):\n",
    "    # Create folder with format {date_experimentname}\n",
    "    date = datetime.datetime.now().strftime(\"%Y-%m-%d-%H:%M:%S\")\n",
    "    path = Path(f'experiments/{date}_{experiment_name}')\n",
    "    path.mkdir(exist_ok=True)\n",
    "    \n",
    "    action_space = [0, 2, 3] # noop, up, down\n",
    "    agent = ActionRepetitionAgent(action_space)\n",
    "    comment = ''\n",
    "    for seed in seeds:\n",
    "        for stickyness in stickyness_grid:\n",
    "            for max_steps in max_steps_grid:\n",
    "                params = {'stickyness': stickyness, 'maxsteps': max_steps, 'seed': seed}\n",
    "                run_experiment(agent, params, below_threshold, path)"
   ]
  },
  {
   "cell_type": "code",
   "execution_count": 8,
   "metadata": {},
   "outputs": [
    {
     "name": "stderr",
     "output_type": "stream",
     "text": [
      "364it [00:35, 10.21it/s]"
     ]
    },
    {
     "name": "stdout",
     "output_type": "stream",
     "text": [
      "New highscore: 1.0\n"
     ]
    },
    {
     "name": "stderr",
     "output_type": "stream",
     "text": [
      "772it [01:17,  9.45it/s]"
     ]
    },
    {
     "name": "stdout",
     "output_type": "stream",
     "text": [
      "New highscore: 2.0\n"
     ]
    },
    {
     "name": "stderr",
     "output_type": "stream",
     "text": [
      "1462it [02:32,  8.96it/s]"
     ]
    },
    {
     "name": "stdout",
     "output_type": "stream",
     "text": [
      "New highscore: 3.0\n"
     ]
    },
    {
     "name": "stderr",
     "output_type": "stream",
     "text": [
      "3307it [06:09,  8.30it/s]"
     ]
    },
    {
     "name": "stdout",
     "output_type": "stream",
     "text": [
      "New highscore: 4.0\n"
     ]
    },
    {
     "name": "stderr",
     "output_type": "stream",
     "text": [
      "4650it [08:59,  7.63it/s]"
     ]
    },
    {
     "name": "stdout",
     "output_type": "stream",
     "text": [
      "New highscore: 5.0\n"
     ]
    },
    {
     "name": "stderr",
     "output_type": "stream",
     "text": [
      "4769it [09:14,  7.41it/s]"
     ]
    },
    {
     "name": "stdout",
     "output_type": "stream",
     "text": [
      "New highscore: 6.0\n"
     ]
    },
    {
     "name": "stderr",
     "output_type": "stream",
     "text": [
      "4999it [09:44,  7.70it/s]"
     ]
    },
    {
     "name": "stdout",
     "output_type": "stream",
     "text": [
      "New highscore: 7.0\n"
     ]
    },
    {
     "name": "stderr",
     "output_type": "stream",
     "text": [
      "5001it [09:45,  7.81it/s]"
     ]
    },
    {
     "name": "stdout",
     "output_type": "stream",
     "text": [
      "Iterations: 5000\tFrames: 500000\tScore: 7.0\t Cells: 1119\n"
     ]
    },
    {
     "name": "stderr",
     "output_type": "stream",
     "text": [
      "5893it [11:45,  7.08it/s]"
     ]
    },
    {
     "name": "stdout",
     "output_type": "stream",
     "text": [
      "New highscore: 8.0\n"
     ]
    },
    {
     "name": "stderr",
     "output_type": "stream",
     "text": [
      "6683it [13:34,  7.11it/s]"
     ]
    },
    {
     "name": "stdout",
     "output_type": "stream",
     "text": [
      "New highscore: 9.0\n"
     ]
    },
    {
     "name": "stderr",
     "output_type": "stream",
     "text": [
      "8476it [17:51,  6.48it/s]"
     ]
    },
    {
     "name": "stdout",
     "output_type": "stream",
     "text": [
      "New highscore: 10.0\n"
     ]
    },
    {
     "name": "stderr",
     "output_type": "stream",
     "text": [
      "9058it [19:18,  6.38it/s]"
     ]
    },
    {
     "name": "stdout",
     "output_type": "stream",
     "text": [
      "New highscore: 11.0\n"
     ]
    },
    {
     "name": "stderr",
     "output_type": "stream",
     "text": [
      "10001it [21:42,  6.28it/s]"
     ]
    },
    {
     "name": "stdout",
     "output_type": "stream",
     "text": [
      "Iterations: 10000\tFrames: 1000000\tScore: 11.0\t Cells: 1321\n"
     ]
    },
    {
     "name": "stderr",
     "output_type": "stream",
     "text": [
      "11041it [24:26,  6.09it/s]"
     ]
    },
    {
     "name": "stdout",
     "output_type": "stream",
     "text": [
      "New highscore: 12.0\n"
     ]
    },
    {
     "name": "stderr",
     "output_type": "stream",
     "text": [
      "12655it [28:45,  6.01it/s]"
     ]
    },
    {
     "name": "stdout",
     "output_type": "stream",
     "text": [
      "New highscore: 13.0\n"
     ]
    },
    {
     "name": "stderr",
     "output_type": "stream",
     "text": [
      "15001it [35:12,  6.04it/s]"
     ]
    },
    {
     "name": "stdout",
     "output_type": "stream",
     "text": [
      "Iterations: 15000\tFrames: 1500000\tScore: 13.0\t Cells: 1404\n"
     ]
    },
    {
     "name": "stderr",
     "output_type": "stream",
     "text": [
      "15292it [36:00,  5.72it/s]"
     ]
    },
    {
     "name": "stdout",
     "output_type": "stream",
     "text": [
      "New highscore: 14.0\n"
     ]
    },
    {
     "name": "stderr",
     "output_type": "stream",
     "text": [
      "18005it [43:42,  5.64it/s]"
     ]
    },
    {
     "name": "stdout",
     "output_type": "stream",
     "text": [
      "New highscore: 15.0\n"
     ]
    },
    {
     "name": "stderr",
     "output_type": "stream",
     "text": [
      "20001it [49:28,  6.03it/s]"
     ]
    },
    {
     "name": "stdout",
     "output_type": "stream",
     "text": [
      "Iterations: 20000\tFrames: 2000000\tScore: 15.0\t Cells: 1447\n"
     ]
    },
    {
     "name": "stderr",
     "output_type": "stream",
     "text": [
      "20022it [49:32,  5.67it/s]"
     ]
    },
    {
     "name": "stdout",
     "output_type": "stream",
     "text": [
      "New highscore: 16.0\n"
     ]
    },
    {
     "name": "stderr",
     "output_type": "stream",
     "text": [
      "20916it [52:11,  5.37it/s]"
     ]
    },
    {
     "name": "stdout",
     "output_type": "stream",
     "text": [
      "New highscore: 17.0\n"
     ]
    },
    {
     "name": "stderr",
     "output_type": "stream",
     "text": [
      "22462it [56:51,  5.41it/s]"
     ]
    },
    {
     "name": "stdout",
     "output_type": "stream",
     "text": [
      "New highscore: 18.0\n"
     ]
    },
    {
     "name": "stderr",
     "output_type": "stream",
     "text": [
      "23611it [1:00:23,  5.25it/s]"
     ]
    },
    {
     "name": "stdout",
     "output_type": "stream",
     "text": [
      "New highscore: 19.0\n"
     ]
    },
    {
     "name": "stderr",
     "output_type": "stream",
     "text": [
      "25001it [1:04:42,  5.19it/s]"
     ]
    },
    {
     "name": "stdout",
     "output_type": "stream",
     "text": [
      "Iterations: 25000\tFrames: 2500000\tScore: 19.0\t Cells: 1487\n"
     ]
    },
    {
     "name": "stderr",
     "output_type": "stream",
     "text": [
      "26132it [1:08:16,  5.12it/s]"
     ]
    },
    {
     "name": "stdout",
     "output_type": "stream",
     "text": [
      "New highscore: 20.0\n"
     ]
    },
    {
     "name": "stderr",
     "output_type": "stream",
     "text": [
      "29186it [1:18:05,  5.91it/s]"
     ]
    },
    {
     "name": "stdout",
     "output_type": "stream",
     "text": [
      "New highscore: 21.0\n"
     ]
    },
    {
     "name": "stderr",
     "output_type": "stream",
     "text": [
      "51312it [2:28:12,  5.77it/s]\n"
     ]
    },
    {
     "name": "stdout",
     "output_type": "stream",
     "text": [
      "Highscore: 21.0\n"
     ]
    },
    {
     "name": "stderr",
     "output_type": "stream",
     "text": [
      "399it [00:37, 10.39it/s]"
     ]
    },
    {
     "name": "stdout",
     "output_type": "stream",
     "text": [
      "New highscore: 1.0\n"
     ]
    },
    {
     "name": "stderr",
     "output_type": "stream",
     "text": [
      "1487it [02:26,  9.39it/s]"
     ]
    },
    {
     "name": "stdout",
     "output_type": "stream",
     "text": [
      "New highscore: 2.0\n"
     ]
    },
    {
     "name": "stderr",
     "output_type": "stream",
     "text": [
      "2419it [04:09,  8.75it/s]"
     ]
    },
    {
     "name": "stdout",
     "output_type": "stream",
     "text": [
      "New highscore: 3.0\n"
     ]
    },
    {
     "name": "stderr",
     "output_type": "stream",
     "text": [
      "2958it [05:11,  8.49it/s]"
     ]
    },
    {
     "name": "stdout",
     "output_type": "stream",
     "text": [
      "New highscore: 4.0\n"
     ]
    },
    {
     "name": "stderr",
     "output_type": "stream",
     "text": [
      "3223it [05:42,  8.36it/s]"
     ]
    },
    {
     "name": "stdout",
     "output_type": "stream",
     "text": [
      "New highscore: 5.0\n"
     ]
    },
    {
     "name": "stderr",
     "output_type": "stream",
     "text": [
      "4035it [07:21,  7.84it/s]"
     ]
    },
    {
     "name": "stdout",
     "output_type": "stream",
     "text": [
      "New highscore: 6.0\n"
     ]
    },
    {
     "name": "stderr",
     "output_type": "stream",
     "text": [
      "4556it [08:27,  8.01it/s]"
     ]
    },
    {
     "name": "stdout",
     "output_type": "stream",
     "text": [
      "New highscore: 7.0\n"
     ]
    },
    {
     "name": "stderr",
     "output_type": "stream",
     "text": [
      "5001it [09:24,  7.79it/s]"
     ]
    },
    {
     "name": "stdout",
     "output_type": "stream",
     "text": [
      "Iterations: 5000\tFrames: 500000\tScore: 7.0\t Cells: 1090\n"
     ]
    },
    {
     "name": "stderr",
     "output_type": "stream",
     "text": [
      "7178it [14:21,  6.90it/s]"
     ]
    },
    {
     "name": "stdout",
     "output_type": "stream",
     "text": [
      "New highscore: 8.0\n"
     ]
    },
    {
     "name": "stderr",
     "output_type": "stream",
     "text": [
      "8036it [16:23,  7.11it/s]"
     ]
    },
    {
     "name": "stdout",
     "output_type": "stream",
     "text": [
      "New highscore: 9.0\n"
     ]
    },
    {
     "name": "stderr",
     "output_type": "stream",
     "text": [
      "8451it [17:22,  6.80it/s]"
     ]
    },
    {
     "name": "stdout",
     "output_type": "stream",
     "text": [
      "New highscore: 10.0\n"
     ]
    },
    {
     "name": "stderr",
     "output_type": "stream",
     "text": [
      "9818it [20:44,  6.58it/s]"
     ]
    },
    {
     "name": "stdout",
     "output_type": "stream",
     "text": [
      "New highscore: 11.0\n"
     ]
    },
    {
     "name": "stderr",
     "output_type": "stream",
     "text": [
      "10001it [21:11,  6.74it/s]"
     ]
    },
    {
     "name": "stdout",
     "output_type": "stream",
     "text": [
      "Iterations: 10000\tFrames: 1000000\tScore: 11.0\t Cells: 1210\n"
     ]
    },
    {
     "name": "stderr",
     "output_type": "stream",
     "text": [
      "11210it [24:13,  6.38it/s]"
     ]
    },
    {
     "name": "stdout",
     "output_type": "stream",
     "text": [
      "New highscore: 12.0\n"
     ]
    },
    {
     "name": "stderr",
     "output_type": "stream",
     "text": [
      "12653it [27:58,  5.86it/s]"
     ]
    },
    {
     "name": "stdout",
     "output_type": "stream",
     "text": [
      "New highscore: 13.0\n"
     ]
    },
    {
     "name": "stderr",
     "output_type": "stream",
     "text": [
      "14007it [31:36,  6.12it/s]"
     ]
    },
    {
     "name": "stdout",
     "output_type": "stream",
     "text": [
      "New highscore: 14.0\n"
     ]
    },
    {
     "name": "stderr",
     "output_type": "stream",
     "text": [
      "14838it [33:53,  5.75it/s]"
     ]
    },
    {
     "name": "stdout",
     "output_type": "stream",
     "text": [
      "New highscore: 15.0\n"
     ]
    },
    {
     "name": "stderr",
     "output_type": "stream",
     "text": [
      "15001it [34:21,  5.73it/s]"
     ]
    },
    {
     "name": "stdout",
     "output_type": "stream",
     "text": [
      "Iterations: 15000\tFrames: 1500000\tScore: 15.0\t Cells: 1301\n"
     ]
    },
    {
     "name": "stderr",
     "output_type": "stream",
     "text": [
      "15873it [36:50,  5.51it/s]"
     ]
    },
    {
     "name": "stdout",
     "output_type": "stream",
     "text": [
      "New highscore: 16.0\n"
     ]
    },
    {
     "name": "stderr",
     "output_type": "stream",
     "text": [
      "16962it [40:02,  5.47it/s]"
     ]
    },
    {
     "name": "stdout",
     "output_type": "stream",
     "text": [
      "New highscore: 17.0\n"
     ]
    },
    {
     "name": "stderr",
     "output_type": "stream",
     "text": [
      "19109it [46:34,  5.30it/s]"
     ]
    },
    {
     "name": "stdout",
     "output_type": "stream",
     "text": [
      "New highscore: 18.0\n"
     ]
    },
    {
     "name": "stderr",
     "output_type": "stream",
     "text": [
      "20001it [49:19,  5.28it/s]"
     ]
    },
    {
     "name": "stdout",
     "output_type": "stream",
     "text": [
      "Iterations: 20000\tFrames: 2000000\tScore: 18.0\t Cells: 1409\n"
     ]
    },
    {
     "name": "stderr",
     "output_type": "stream",
     "text": [
      "21670it [54:35,  5.21it/s]"
     ]
    },
    {
     "name": "stdout",
     "output_type": "stream",
     "text": [
      "New highscore: 19.0\n"
     ]
    },
    {
     "name": "stderr",
     "output_type": "stream",
     "text": [
      "23539it [1:00:37,  5.13it/s]"
     ]
    },
    {
     "name": "stdout",
     "output_type": "stream",
     "text": [
      "New highscore: 20.0\n"
     ]
    },
    {
     "name": "stderr",
     "output_type": "stream",
     "text": [
      "25001it [1:05:26,  5.67it/s]"
     ]
    },
    {
     "name": "stdout",
     "output_type": "stream",
     "text": [
      "Iterations: 25000\tFrames: 2500000\tScore: 20.0\t Cells: 1454\n"
     ]
    },
    {
     "name": "stderr",
     "output_type": "stream",
     "text": [
      "25592it [1:07:24,  5.46it/s]"
     ]
    },
    {
     "name": "stdout",
     "output_type": "stream",
     "text": [
      "New highscore: 21.0\n"
     ]
    },
    {
     "name": "stderr",
     "output_type": "stream",
     "text": [
      "51680it [2:34:16,  5.58it/s]\n"
     ]
    },
    {
     "name": "stdout",
     "output_type": "stream",
     "text": [
      "Highscore: 21.0\n"
     ]
    },
    {
     "name": "stderr",
     "output_type": "stream",
     "text": [
      "193it [00:18, 10.48it/s]"
     ]
    },
    {
     "name": "stdout",
     "output_type": "stream",
     "text": [
      "New highscore: 1.0\n"
     ]
    },
    {
     "name": "stderr",
     "output_type": "stream",
     "text": [
      "445it [00:42, 10.19it/s]"
     ]
    },
    {
     "name": "stdout",
     "output_type": "stream",
     "text": [
      "New highscore: 2.0\n"
     ]
    },
    {
     "name": "stderr",
     "output_type": "stream",
     "text": [
      "1428it [02:25,  8.89it/s]"
     ]
    },
    {
     "name": "stdout",
     "output_type": "stream",
     "text": [
      "New highscore: 3.0\n"
     ]
    },
    {
     "name": "stderr",
     "output_type": "stream",
     "text": [
      "2880it [05:14,  8.11it/s]"
     ]
    },
    {
     "name": "stdout",
     "output_type": "stream",
     "text": [
      "New highscore: 4.0\n"
     ]
    },
    {
     "name": "stderr",
     "output_type": "stream",
     "text": [
      "3114it [05:42,  8.02it/s]"
     ]
    },
    {
     "name": "stdout",
     "output_type": "stream",
     "text": [
      "New highscore: 5.0\n"
     ]
    },
    {
     "name": "stderr",
     "output_type": "stream",
     "text": [
      "4007it [07:32,  7.96it/s]"
     ]
    },
    {
     "name": "stdout",
     "output_type": "stream",
     "text": [
      "New highscore: 6.0\n"
     ]
    },
    {
     "name": "stderr",
     "output_type": "stream",
     "text": [
      "5001it [09:38,  7.55it/s]"
     ]
    },
    {
     "name": "stdout",
     "output_type": "stream",
     "text": [
      "Iterations: 5000\tFrames: 500000\tScore: 6.0\t Cells: 1081\n"
     ]
    },
    {
     "name": "stderr",
     "output_type": "stream",
     "text": [
      "5596it [10:56,  7.23it/s]"
     ]
    },
    {
     "name": "stdout",
     "output_type": "stream",
     "text": [
      "New highscore: 7.0\n"
     ]
    },
    {
     "name": "stderr",
     "output_type": "stream",
     "text": [
      "6721it [13:30,  7.19it/s]"
     ]
    },
    {
     "name": "stdout",
     "output_type": "stream",
     "text": [
      "New highscore: 8.0\n"
     ]
    },
    {
     "name": "stderr",
     "output_type": "stream",
     "text": [
      "7123it [14:26,  7.11it/s]"
     ]
    },
    {
     "name": "stdout",
     "output_type": "stream",
     "text": [
      "New highscore: 9.0\n"
     ]
    },
    {
     "name": "stderr",
     "output_type": "stream",
     "text": [
      "7894it [16:17,  6.86it/s]"
     ]
    },
    {
     "name": "stdout",
     "output_type": "stream",
     "text": [
      "New highscore: 10.0\n"
     ]
    },
    {
     "name": "stderr",
     "output_type": "stream",
     "text": [
      "9571it [20:25,  6.59it/s]"
     ]
    },
    {
     "name": "stdout",
     "output_type": "stream",
     "text": [
      "New highscore: 11.0\n"
     ]
    },
    {
     "name": "stderr",
     "output_type": "stream",
     "text": [
      "10001it [21:31,  6.57it/s]"
     ]
    },
    {
     "name": "stdout",
     "output_type": "stream",
     "text": [
      "Iterations: 10000\tFrames: 1000000\tScore: 11.0\t Cells: 1269\n"
     ]
    },
    {
     "name": "stderr",
     "output_type": "stream",
     "text": [
      "11250it [24:44,  5.98it/s]"
     ]
    },
    {
     "name": "stdout",
     "output_type": "stream",
     "text": [
      "New highscore: 12.0\n"
     ]
    },
    {
     "name": "stderr",
     "output_type": "stream",
     "text": [
      "12435it [27:51,  6.01it/s]"
     ]
    },
    {
     "name": "stdout",
     "output_type": "stream",
     "text": [
      "New highscore: 13.0\n"
     ]
    },
    {
     "name": "stderr",
     "output_type": "stream",
     "text": [
      "14069it [32:14,  6.11it/s]"
     ]
    },
    {
     "name": "stdout",
     "output_type": "stream",
     "text": [
      "New highscore: 14.0\n"
     ]
    },
    {
     "name": "stderr",
     "output_type": "stream",
     "text": [
      "15001it [34:47,  5.91it/s]"
     ]
    },
    {
     "name": "stdout",
     "output_type": "stream",
     "text": [
      "Iterations: 15000\tFrames: 1500000\tScore: 14.0\t Cells: 1327\n"
     ]
    },
    {
     "name": "stderr",
     "output_type": "stream",
     "text": [
      "15687it [36:42,  5.90it/s]"
     ]
    },
    {
     "name": "stdout",
     "output_type": "stream",
     "text": [
      "New highscore: 15.0\n"
     ]
    },
    {
     "name": "stderr",
     "output_type": "stream",
     "text": [
      "18880it [45:46,  5.74it/s]"
     ]
    },
    {
     "name": "stdout",
     "output_type": "stream",
     "text": [
      "New highscore: 16.0\n"
     ]
    },
    {
     "name": "stderr",
     "output_type": "stream",
     "text": [
      "19823it [48:31,  5.76it/s]"
     ]
    },
    {
     "name": "stdout",
     "output_type": "stream",
     "text": [
      "New highscore: 17.0\n"
     ]
    },
    {
     "name": "stderr",
     "output_type": "stream",
     "text": [
      "20001it [49:02,  5.87it/s]"
     ]
    },
    {
     "name": "stdout",
     "output_type": "stream",
     "text": [
      "Iterations: 20000\tFrames: 2000000\tScore: 17.0\t Cells: 1381\n"
     ]
    },
    {
     "name": "stderr",
     "output_type": "stream",
     "text": [
      "21975it [54:54,  5.42it/s]"
     ]
    },
    {
     "name": "stdout",
     "output_type": "stream",
     "text": [
      "New highscore: 18.0\n"
     ]
    },
    {
     "name": "stderr",
     "output_type": "stream",
     "text": [
      "22674it [57:01,  5.49it/s]"
     ]
    },
    {
     "name": "stdout",
     "output_type": "stream",
     "text": [
      "New highscore: 19.0\n"
     ]
    },
    {
     "name": "stderr",
     "output_type": "stream",
     "text": [
      "23489it [59:31,  5.32it/s]"
     ]
    },
    {
     "name": "stdout",
     "output_type": "stream",
     "text": [
      "New highscore: 20.0\n"
     ]
    },
    {
     "name": "stderr",
     "output_type": "stream",
     "text": [
      "25001it [1:04:14,  5.11it/s]"
     ]
    },
    {
     "name": "stdout",
     "output_type": "stream",
     "text": [
      "Iterations: 25000\tFrames: 2500000\tScore: 20.0\t Cells: 1408\n"
     ]
    },
    {
     "name": "stderr",
     "output_type": "stream",
     "text": [
      "25195it [1:04:51,  5.36it/s]"
     ]
    },
    {
     "name": "stdout",
     "output_type": "stream",
     "text": [
      "New highscore: 21.0\n"
     ]
    },
    {
     "name": "stderr",
     "output_type": "stream",
     "text": [
      "52021it [2:28:59,  5.82it/s]\n"
     ]
    },
    {
     "name": "stdout",
     "output_type": "stream",
     "text": [
      "Highscore: 21.0\n"
     ]
    },
    {
     "name": "stderr",
     "output_type": "stream",
     "text": [
      "79it [00:07, 10.18it/s]"
     ]
    },
    {
     "name": "stdout",
     "output_type": "stream",
     "text": [
      "New highscore: 1.0\n"
     ]
    },
    {
     "name": "stderr",
     "output_type": "stream",
     "text": [
      "448it [00:44, 10.00it/s]"
     ]
    },
    {
     "name": "stdout",
     "output_type": "stream",
     "text": [
      "New highscore: 2.0\n"
     ]
    },
    {
     "name": "stderr",
     "output_type": "stream",
     "text": [
      "1785it [03:07,  8.87it/s]"
     ]
    },
    {
     "name": "stdout",
     "output_type": "stream",
     "text": [
      "New highscore: 3.0\n"
     ]
    },
    {
     "name": "stderr",
     "output_type": "stream",
     "text": [
      "2038it [03:36,  8.71it/s]"
     ]
    },
    {
     "name": "stdout",
     "output_type": "stream",
     "text": [
      "New highscore: 4.0\n"
     ]
    },
    {
     "name": "stderr",
     "output_type": "stream",
     "text": [
      "2299it [04:07,  8.37it/s]"
     ]
    },
    {
     "name": "stdout",
     "output_type": "stream",
     "text": [
      "New highscore: 5.0\n"
     ]
    },
    {
     "name": "stderr",
     "output_type": "stream",
     "text": [
      "2740it [05:00,  7.96it/s]"
     ]
    },
    {
     "name": "stdout",
     "output_type": "stream",
     "text": [
      "New highscore: 6.0\n"
     ]
    },
    {
     "name": "stderr",
     "output_type": "stream",
     "text": [
      "2906it [05:20,  7.76it/s]"
     ]
    },
    {
     "name": "stdout",
     "output_type": "stream",
     "text": [
      "New highscore: 7.0\n"
     ]
    },
    {
     "name": "stderr",
     "output_type": "stream",
     "text": [
      "3240it [06:02,  7.67it/s]"
     ]
    },
    {
     "name": "stdout",
     "output_type": "stream",
     "text": [
      "New highscore: 8.0\n"
     ]
    },
    {
     "name": "stderr",
     "output_type": "stream",
     "text": [
      "4348it [08:27,  7.21it/s]"
     ]
    },
    {
     "name": "stdout",
     "output_type": "stream",
     "text": [
      "New highscore: 9.0\n"
     ]
    },
    {
     "name": "stderr",
     "output_type": "stream",
     "text": [
      "4856it [09:38,  7.20it/s]"
     ]
    },
    {
     "name": "stdout",
     "output_type": "stream",
     "text": [
      "New highscore: 10.0\n"
     ]
    },
    {
     "name": "stderr",
     "output_type": "stream",
     "text": [
      "5001it [09:58,  6.81it/s]"
     ]
    },
    {
     "name": "stdout",
     "output_type": "stream",
     "text": [
      "Iterations: 5000\tFrames: 500000\tScore: 10.0\t Cells: 1129\n"
     ]
    },
    {
     "name": "stderr",
     "output_type": "stream",
     "text": [
      "6096it [12:36,  6.83it/s]"
     ]
    },
    {
     "name": "stdout",
     "output_type": "stream",
     "text": [
      "New highscore: 11.0\n"
     ]
    },
    {
     "name": "stderr",
     "output_type": "stream",
     "text": [
      "6802it [14:21,  6.63it/s]"
     ]
    },
    {
     "name": "stdout",
     "output_type": "stream",
     "text": [
      "New highscore: 12.0\n"
     ]
    },
    {
     "name": "stderr",
     "output_type": "stream",
     "text": [
      "7846it [16:59,  6.32it/s]"
     ]
    },
    {
     "name": "stdout",
     "output_type": "stream",
     "text": [
      "New highscore: 13.0\n"
     ]
    },
    {
     "name": "stderr",
     "output_type": "stream",
     "text": [
      "10001it [22:36,  6.09it/s]"
     ]
    },
    {
     "name": "stdout",
     "output_type": "stream",
     "text": [
      "Iterations: 10000\tFrames: 1000000\tScore: 13.0\t Cells: 1276\n"
     ]
    },
    {
     "name": "stderr",
     "output_type": "stream",
     "text": [
      "10251it [23:16,  6.54it/s]"
     ]
    },
    {
     "name": "stdout",
     "output_type": "stream",
     "text": [
      "New highscore: 14.0\n"
     ]
    },
    {
     "name": "stderr",
     "output_type": "stream",
     "text": [
      "10568it [24:06,  6.02it/s]"
     ]
    },
    {
     "name": "stdout",
     "output_type": "stream",
     "text": [
      "New highscore: 15.0\n"
     ]
    },
    {
     "name": "stderr",
     "output_type": "stream",
     "text": [
      "13629it [32:37,  5.52it/s]"
     ]
    },
    {
     "name": "stdout",
     "output_type": "stream",
     "text": [
      "New highscore: 16.0\n"
     ]
    },
    {
     "name": "stderr",
     "output_type": "stream",
     "text": [
      "14256it [34:25,  5.61it/s]"
     ]
    },
    {
     "name": "stdout",
     "output_type": "stream",
     "text": [
      "New highscore: 17.0\n"
     ]
    },
    {
     "name": "stderr",
     "output_type": "stream",
     "text": [
      "15001it [36:35,  5.55it/s]"
     ]
    },
    {
     "name": "stdout",
     "output_type": "stream",
     "text": [
      "Iterations: 15000\tFrames: 1500000\tScore: 17.0\t Cells: 1372\n"
     ]
    },
    {
     "name": "stderr",
     "output_type": "stream",
     "text": [
      "19890it [51:11,  5.09it/s]"
     ]
    },
    {
     "name": "stdout",
     "output_type": "stream",
     "text": [
      "New highscore: 18.0\n"
     ]
    },
    {
     "name": "stderr",
     "output_type": "stream",
     "text": [
      "20001it [51:32,  5.31it/s]"
     ]
    },
    {
     "name": "stdout",
     "output_type": "stream",
     "text": [
      "Iterations: 20000\tFrames: 2000000\tScore: 18.0\t Cells: 1432\n"
     ]
    },
    {
     "name": "stderr",
     "output_type": "stream",
     "text": [
      "20907it [54:20,  5.20it/s]"
     ]
    },
    {
     "name": "stdout",
     "output_type": "stream",
     "text": [
      "New highscore: 19.0\n"
     ]
    },
    {
     "name": "stderr",
     "output_type": "stream",
     "text": [
      "21973it [57:39,  5.39it/s]"
     ]
    },
    {
     "name": "stdout",
     "output_type": "stream",
     "text": [
      "New highscore: 20.0\n"
     ]
    },
    {
     "name": "stderr",
     "output_type": "stream",
     "text": [
      "22442it [59:07,  5.89it/s]"
     ]
    },
    {
     "name": "stdout",
     "output_type": "stream",
     "text": [
      "New highscore: 21.0\n"
     ]
    },
    {
     "name": "stderr",
     "output_type": "stream",
     "text": [
      "52208it [2:32:54,  5.69it/s]\n"
     ]
    },
    {
     "name": "stdout",
     "output_type": "stream",
     "text": [
      "Highscore: 21.0\n"
     ]
    }
   ],
   "source": [
    "experiment_name = 'frameskipdemos5M'\n",
    "seeds = [0, 120210, 69811, 7471]\n",
    "\n",
    "stickyness_grid = [0.0]\n",
    "max_steps_grid = [100]\n",
    "below_threshold = lambda x: x < 5000000\n",
    "\n",
    "run_experiments(experiment_name, seeds, stickyness_grid, max_steps_grid, below_threshold)"
   ]
  },
  {
   "cell_type": "code",
   "execution_count": 11,
   "metadata": {},
   "outputs": [],
   "source": [
    "def read_actions(json_file):\n",
    "    with open(json_file) as f:\n",
    "        d = json.load(f)\n",
    "        return d['actions_taken']\n",
    "    \n",
    "def demo_from_actions(actions, env):\n",
    "    env.reset()\n",
    "    done = False\n",
    "    demonstration = []\n",
    "    for action in actions:\n",
    "        state, reward, done, _ = env.step(action)\n",
    "        demonstration.append(Experience(state, action, reward, done))\n",
    "        if done: break\n",
    "    env.close()\n",
    "    return demonstration\n",
    "\n",
    "def replay(actions_taken, env):\n",
    "    env.reset()\n",
    "    done = False\n",
    "    for action in actions_taken:\n",
    "        _, _, done, _ = env.step(action)\n",
    "        \n",
    "        rgb = env.render('rgb_array')\n",
    "        img = repeat_upsample(rgb, 8, 8)\n",
    "        viewer.imshow(img)\n",
    "        \n",
    "        if done: break\n",
    "        \n",
    "    env.close()"
   ]
  },
  {
   "cell_type": "code",
   "execution_count": 22,
   "metadata": {},
   "outputs": [
    {
     "data": {
      "text/plain": [
       "<matplotlib.image.AxesImage at 0x7f7f5b18ab80>"
      ]
     },
     "execution_count": 22,
     "metadata": {},
     "output_type": "execute_result"
    },
    {
     "data": {
      "image/png": "[encoded data removed]",
      "text/plain": [
       "<Figure size 432x288 with 1 Axes>"
      ]
     },
     "metadata": {
      "needs_background": "light"
     },
     "output_type": "display_data"
    }
   ],
   "source": [
    "env = gym.make('PongDeterministic-v4')\n",
    "state = env.reset()\n",
    "for _ in range(200):\n",
    "    action = env.action_space.sample()\n",
    "    state, _, _, _ = env.step(action)\n",
    "plt.imshow(state)"
   ]
  },
  {
   "cell_type": "code",
   "execution_count": 21,
   "metadata": {},
   "outputs": [
    {
     "data": {
      "text/plain": [
       "<matplotlib.image.AxesImage at 0x7f061baa0070>"
      ]
     },
     "execution_count": 21,
     "metadata": {},
     "output_type": "execute_result"
    },
    {
     "data": {
      "image/png": "[encoded data removed]",
      "text/plain": [
       "<Figure size 432x288 with 1 Axes>"
      ]
     },
     "metadata": {
      "needs_background": "light"
     },
     "output_type": "display_data"
    }
   ],
   "source": [
    "def downscale(img):\n",
    "    # Crop and resize\n",
    "    img = img[34:194, :]\n",
    "\n",
    "    # Convert to greyscale\n",
    "    img = cv2.cvtColor(img, cv2.COLOR_RGB2GRAY)\n",
    "\n",
    "    # Shrink\n",
    "    # https://github.com/uber-research/go-explore/blob/240056852514ffc39f62d32ae7590a39fd1814b9/robustified/goexplore_py/utils.py#L67\n",
    "    img = cv2.resize(img, (16, 16), interpolation=cv2.INTER_AREA)\n",
    "    \n",
    "    # Binarize\n",
    "    #img = np.round(img, 2)\n",
    "    #threshold = 77.7\n",
    "    #img[img < threshold] = 0\n",
    "    #img[img >= threshold] = 1\n",
    "    \n",
    "    # Reduce pixel depth\n",
    "    img = color_quantize(img, 8)\n",
    "\n",
    "    return img\n",
    "\n",
    "cell_repr = downscale(state)\n",
    "plt.imshow(cell_repr, cmap='gray')"
   ]
  },
  {
   "cell_type": "code",
   "execution_count": 26,
   "metadata": {},
   "outputs": [
    {
     "data": {
      "text/plain": [
       "array([[0., 0., 0., ..., 0., 0., 0.],\n",
       "       [0., 0., 0., ..., 0., 0., 0.],\n",
       "       [0., 0., 0., ..., 0., 0., 0.],\n",
       "       ...,\n",
       "       [0., 0., 0., ..., 0., 0., 0.],\n",
       "       [0., 0., 0., ..., 0., 0., 0.],\n",
       "       [0., 0., 0., ..., 0., 0., 0.]])"
      ]
     },
     "execution_count": 26,
     "metadata": {},
     "output_type": "execute_result"
    }
   ],
   "source": [
    "cell_repr"
   ]
  },
  {
   "cell_type": "code",
   "execution_count": 14,
   "metadata": {},
   "outputs": [],
   "source": [
    "p = Path('experiments/2021-12-06-20:40:15_frameskipdemos5M').glob('*')\n",
    "files = [x for x in p if x.is_file()]\n",
    "demonstrations = []\n",
    "for file in files:\n",
    "    env = gym.make('PongDeterministic-v4')\n",
    "    actions = read_actions(files[0])\n",
    "    demonstrations.append(demo_from_actions(actions, env))"
   ]
  },
  {
   "cell_type": "code",
   "execution_count": 17,
   "metadata": {},
   "outputs": [
    {
     "data": {
      "text/plain": [
       "Experience(state=array([[[  0,   0,   0],\n",
       "        [  0,   0,   0],\n",
       "        [  0,   0,   0],\n",
       "        ...,\n",
       "        [144,  72,  17],\n",
       "        [144,  72,  17],\n",
       "        [144,  72,  17]],\n",
       "\n",
       "       [[144,  72,  17],\n",
       "        [144,  72,  17],\n",
       "        [144,  72,  17],\n",
       "        ...,\n",
       "        [144,  72,  17],\n",
       "        [144,  72,  17],\n",
       "        [144,  72,  17]],\n",
       "\n",
       "       [[144,  72,  17],\n",
       "        [144,  72,  17],\n",
       "        [144,  72,  17],\n",
       "        ...,\n",
       "        [144,  72,  17],\n",
       "        [144,  72,  17],\n",
       "        [144,  72,  17]],\n",
       "\n",
       "       ...,\n",
       "\n",
       "       [[236, 236, 236],\n",
       "        [236, 236, 236],\n",
       "        [236, 236, 236],\n",
       "        ...,\n",
       "        [236, 236, 236],\n",
       "        [236, 236, 236],\n",
       "        [236, 236, 236]],\n",
       "\n",
       "       [[236, 236, 236],\n",
       "        [236, 236, 236],\n",
       "        [236, 236, 236],\n",
       "        ...,\n",
       "        [236, 236, 236],\n",
       "        [236, 236, 236],\n",
       "        [236, 236, 236]],\n",
       "\n",
       "       [[236, 236, 236],\n",
       "        [236, 236, 236],\n",
       "        [236, 236, 236],\n",
       "        ...,\n",
       "        [236, 236, 236],\n",
       "        [236, 236, 236],\n",
       "        [236, 236, 236]]], dtype=uint8), action=2, reward=0.0, done=False)"
      ]
     },
     "execution_count": 17,
     "metadata": {},
     "output_type": "execute_result"
    }
   ],
   "source": [
    "demonstrations[0][0]"
   ]
  },
  {
   "cell_type": "code",
   "execution_count": 13,
   "metadata": {},
   "outputs": [],
   "source": [
    "env = gym.make('PongDeterministic-v4')\n",
    "actions = read_actions('experiments/2021-12-06-20:40:15_frameskipdemos5M/stickyness0.0_maxsteps100_seed0_.json')\n",
    "demo = demo_from_actions(actions, env)\n",
    "replay(actions, env)"
   ]
  },
  {
   "cell_type": "code",
   "execution_count": null,
   "metadata": {},
   "outputs": [],
   "source": []
  }
 ],
 "metadata": {
  "kernelspec": {
   "display_name": "Python 3",
   "language": "python",
   "name": "python3"
  },
  "language_info": {
   "codemirror_mode": {
    "name": "ipython",
    "version": 3
   },
   "file_extension": ".py",
   "mimetype": "text/x-python",
   "name": "python",
   "nbconvert_exporter": "python",
   "pygments_lexer": "ipython3",
   "version": "3.8.3"
  }
 },
 "nbformat": 4,
 "nbformat_minor": 4
}
